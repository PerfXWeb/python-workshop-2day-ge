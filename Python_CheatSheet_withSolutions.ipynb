{
 "cells": [
  {
   "cell_type": "markdown",
   "metadata": {
    "id": "_1jcNoEZyQWR",
    "slideshow": {
     "slide_type": "skip"
    }
   },
   "source": [
    "[Link to open the notebook WITH solutions in Google Colab](https://colab.research.google.com/github/PerfXWeb/python-workshop-2day-ge/blob/master/Python_CheatSheet_withSolutions.ipynb)\n",
    "\n",
    "[Link to open the notebook WITHOUT solutions in Google Colab](https://colab.research.google.com/github/PerfXWeb/python-workshop-2day-ge/blob/master/Python_CheatSheet_noSolutions.ipynb)"
   ]
  },
  {
   "cell_type": "markdown",
   "metadata": {
    "id": "4BRqjCbV-cWQ",
    "slideshow": {
     "slide_type": "slide"
    }
   },
   "source": [
    "# Willkommen\n",
    "## Python Crash Course - From absolute 0 to Python hero\n"
   ]
  },
  {
   "cell_type": "markdown",
   "metadata": {
    "id": "tbSCAh5aKbCQ"
   },
   "source": [
    "*Link zum Gitlab Repository (Dieses Notizbuch, Slides, Bilder, Beispielcode und mehr): [https://github.com/PerfXWeb/python-workshop-2day-ge](https://github.com/PerfXWeb/python-workshop-2day-ge)*"
   ]
  },
  {
   "cell_type": "markdown",
   "metadata": {
    "id": "X1uUlG59IYJs",
    "slideshow": {
     "slide_type": "subslide"
    }
   },
   "source": [
    "## Bevor wir anfangen\n",
    "\n",
    "* Schalte deine Kamera ein!\n",
    "* Ich brauche eure **volle Konzentration**\n",
    "* Hol dir noch schnell einen Kaffee\n",
    "* Falls zu irgendeinem Zeitpunkt fragen auftauchen: Direkt fragen!\n",
    "* Ich habe ein paar kleine Programmier-Aufgaben vorbereitet, die ihr selbst lösen müsst. Lösungen findet ihr im Github Projekt, allerdings empfehle ich euch, die Beispiele trotzdem zuerst **selbst** zu probieren.\n",
    "\n"
   ]
  },
  {
   "cell_type": "markdown",
   "metadata": {
    "id": "5eOqqSmPI27O",
    "slideshow": {
     "slide_type": "subslide"
    }
   },
   "source": [
    "- Schließt **alles auf eurem Computer**, bis auf:\n",
    " - Microsoft Teams\n",
    " - [this Google Colab notebook (without solutions)](https://colab.research.google.com/github/PerfXWeb/python-workshop-2day-ge/blob/master/Python_CheatSheet_noSolutions.ipynb)\n",
    " - (*Das Colab Notizbuch beinhaltet noch mehr Tips und Beschreibungen, als die Slides. Es lohnt sich also, dort auch reinzuschauen.*)"
   ]
  },
  {
   "cell_type": "markdown",
   "metadata": {
    "id": "Y24wEK6G-sKD",
    "slideshow": {
     "slide_type": "subslide"
    }
   },
   "source": [
    "## Your lecturer for today"
   ]
  },
  {
   "cell_type": "markdown",
   "metadata": {
    "id": "PtuBFFPQAc-n"
   },
   "source": [
    "### Matthias Hausberger"
   ]
  },
  {
   "cell_type": "markdown",
   "metadata": {
    "id": "A8_H0B7_Fxls"
   },
   "source": [
    "<img src=\"https://raw.githubusercontent.com/PerfXWeb/python-workshop-2day-ge/master/images/profile_matthias.jpg\" width=\"40%\">\n",
    "\n",
    "* 23 Jahre alt\n",
    "* Selbsterlernter Programmierer\n",
    "* Python, PHP, MySQL, XPath, HTML, CSS, Unix/Linux\n",
    "* Spezialisiert in web automation (mit oder auch ohne API (Selenium)), und Chat Bots\n",
    "* Gerne könnt ihr mich jederzeit auch nach dem Workshop hier kontaktieren: matthias@perfxweb.com\n",
    "\n",
    "\n",
    "\n"
   ]
  },
  {
   "cell_type": "markdown",
   "metadata": {
    "slideshow": {
     "slide_type": "subslide"
    }
   },
   "source": [
    "### PerfXWeb - Falls professionelle Hilfe benötigt wird"
   ]
  },
  {
   "cell_type": "markdown",
   "metadata": {},
   "source": [
    "<img src=\"https://raw.githubusercontent.com/PerfXWeb/python-workshop-2day-ge/master/images/profile_perfxweb.png\" width=\"40%\">\n",
    "\n",
    "[perfxweb.com](https://perfxweb.com)\n",
    "* Wir automatisieren ALLES\n",
    "* Web automation, Mail automation, Data analysis (inklusive Machine Learning)\n",
    "* Chatbots\n",
    "\n",
    "<center>We are committed to providing each customer with well-organised, well-documented, secure and reliable solutions.</center>"
   ]
  },
  {
   "cell_type": "markdown",
   "metadata": {
    "slideshow": {
     "slide_type": "subslide"
    }
   },
   "source": [
    "## Vorstellungsrunde\n",
    "Erzählt mir:\n",
    "- Wer ihr seid\n",
    "- Was euer professioneller Hintergrund ist (Branche oder Studium etc.)\n",
    "- Warum ihr euch für diesen Python Workshop angemeldet habt / Programmieren lernen wollt\n",
    "- Was ihr euch von dem Kurs erwartet"
   ]
  },
  {
   "cell_type": "markdown",
   "metadata": {
    "id": "cSMWsBKMIwzE",
    "slideshow": {
     "slide_type": "subslide"
    }
   },
   "source": [
    "## Agenda\n",
    "\n",
    "### Tag 1\n",
    "1. Kennenlernen\n",
    "1. Einführung in Python\n",
    "1. Data Types / Variables (größter Teil)\n",
    "1. If sentences\n",
    "1. Loops\n",
    "1. Functions\n",
    "1. Imports (bester Teil)\n",
    "1. Grunzüge von Klassen und Objekten\n",
    "1. Final tips\n",
    "\n",
    "### Tag  2\n",
    "1. Installation von Python am eigenen Computer\n",
    "1. Live coding session\n",
    "1. Besprechung eurer Projekte\n",
    "1. Einführung in bekannte Python packages\n",
    "\n",
    "\n",
    "Währenddessen:\n",
    "* Tips and tricks on bug fixing and googling\n",
    "* exercises\n",
    "* breaks"
   ]
  },
  {
   "cell_type": "markdown",
   "metadata": {
    "id": "JSN4QyyRLULV",
    "slideshow": {
     "slide_type": "subslide"
    }
   },
   "source": [
    "## Am Ende dieses Kurses sollten wir in der Lage sein,...\n",
    "* Alle 5 Hauptkonzepte der (objektorientierten) Programmierung zu verstehen.\n",
    "* in der Lage sein, Python-Code zu lesen und zu *verstehen*\n",
    "* zu wissen, wie man mit eigenem Code anfängt\n",
    " - Wo man nach Code suchen kann\n",
    " - Wie man häufige Fehler vermeidet\n",
    " - Einführung in die Arbeit mit lokalen Computerdateien, Excel und APIs"
   ]
  },
  {
   "cell_type": "markdown",
   "metadata": {
    "id": "Bt0ZcEgNUgm8",
    "slideshow": {
     "slide_type": "subslide"
    }
   },
   "source": [
    "**Dies wird ein sehr interaktiver Kurs sein**\n",
    "* Diskussionen / Umfragen\n",
    "* Individuelle / Gruppenaufgaben\n",
    "* Alle Fragen immer bitte direkt stellen\n",
    "* Memes inkludiert (um euch in die Programmierer-Memes-Kultur einzuführen)"
   ]
  },
  {
   "cell_type": "markdown",
   "metadata": {
    "id": "qy08mgijUyrB",
    "slideshow": {
     "slide_type": "subslide"
    }
   },
   "source": [
    "<img src=\"https://raw.githubusercontent.com/PerfXWeb/python-workshop-2day-ge/master/images/meme_programmingmemes.png\" width=\"50%\">"
   ]
  },
  {
   "cell_type": "markdown",
   "metadata": {
    "id": "IGKa48Kmmy65",
    "slideshow": {
     "slide_type": "subslide"
    }
   },
   "source": [
    "## Mindset-Vorbereitung\n",
    "* Das Lernen einer Programmiersprache ist wie das Lernen jeder anderen Sprache\n",
    "* Wortschatz: nicht so wichtig (Google ist dein bester Freund)\n",
    "* Grammatik (=Syntax): **sehr wichtig**\n",
    "* **Aufpassen, wie die Zeichen, Buchstaben, Klammern ()[]{} usw. verwendet werden! Sonst kommt es schnell zu Fehlern.**\n",
    "\n",
    "Heute werden wir viel über die Grammatik, die Grundlage der Python-Programmierung, lernen."
   ]
  },
  {
   "cell_type": "markdown",
   "metadata": {
    "id": "JgkrXxqfniTX"
   },
   "source": [
    "*Side Note: Am Ende dieses Kurses hast du vielleicht das Gefühl, dass du nicht wirklich gelernt hast, wie man programmiert. Aber das hast du! Mehr dazu an Tag 2*."
   ]
  },
  {
   "cell_type": "markdown",
   "metadata": {
    "id": "efnwfvMGPbGf",
    "slideshow": {
     "slide_type": "slide"
    }
   },
   "source": [
    "# 0 - Python"
   ]
  },
  {
   "cell_type": "markdown",
   "metadata": {
    "id": "KdTc2zc-Pgep"
   },
   "source": [
    "## Über Python\n",
    "Python ist eine interpretierte High-Level- und Allzweck-Programmiersprache. Erstellt von Guido van Rossum.\n",
    "* Erste Veröffentlichung 1991\n",
    "* Python 3 wurde 2008 veröffentlicht\n",
    " - Großer Unterschied zu Python 2.7*\n",
    "* Aktuelle Version: Python 3.9 *(Stand: Juni 2021)*\n",
    "* objektorientierte Programmiersprache *(genau wie Java, C++, C#, Python, R, PHP, Visual Basic.NET, JavaScript, Ruby, Perl, Object Pascal, Objective-C, Dart, Swift, Scala, Kotlin, Common Lisp, MATLAB und Smalltalk)*\n",
    "* sehr lesbarer Code\n",
    "\n",
    "\n",
    "*(Quelle: Wikipedia)*\n",
    "\n",
    "** Auf einigen Computern ist Python 2.7 vorinstalliert. Vergewissere dich, dass du die aktuelle Python 3-Version für das programmieren verwendest.*"
   ]
  },
  {
   "cell_type": "markdown",
   "metadata": {
    "id": "69ztvvfEQJqL"
   },
   "source": [
    "> *Da viele Programmiersprachen objektorientiert sind, wirst du höchstwahrscheinlich in der Lage sein, Code aus vielen verschiedenen Programmiersprachen bis zu einem gewissen Grad zu lesen.*"
   ]
  },
  {
   "cell_type": "markdown",
   "metadata": {
    "id": "gYFpjCZYR51m",
    "slideshow": {
     "slide_type": "subslide"
    }
   },
   "source": [
    "## Was mit Python möglich ist\n",
    "* Einfache Algorithmen (alles, was man auch mit Excel machen kann)\n",
    "* Graphen, Benutzeroberflächen, Bilder (Diagramme und eigentliche GUI-Programme)\n",
    "* Automatisierung in jeder Form, die du dir vorstellen kannst\n",
    "* Ausführen von Code auf deinem Computer, Telefon, Server oder deiner Mikrowelle \n",
    "* **Data Science und Machine Learning*** *(fortgeschritten)*"
   ]
  },
  {
   "cell_type": "markdown",
   "metadata": {
    "id": "RJujBE2BYjNk"
   },
   "source": [
    "** Scikit, Tensorflow, PyTorch und Pandas sind bekannte Data Science und Machine Learning Tools, die alle auf Python basieren.*"
   ]
  },
  {
   "cell_type": "markdown",
   "metadata": {
    "id": "IgPJAPsaR9oK",
    "slideshow": {
     "slide_type": "subslide"
    }
   },
   "source": [
    "## Was man mit Python NICHT machen kann (oder sollte)\n",
    "* GUI-Spiele *(möglich, aber nicht empfohlen)*\n",
    "* Smartphone-Apps *(möglich, aber nicht empfohlen)*\n",
    "* Low-Level-Programmierung* *(möglich, meist nicht empfohlen)*"
   ]
  },
  {
   "cell_type": "markdown",
   "metadata": {
    "id": "yu9vGgZPTTHQ",
    "slideshow": {
     "slide_type": "subslide"
    }
   },
   "source": [
    "## Was du wissen solltest, bevor wir anfangen\n"
   ]
  },
  {
   "cell_type": "markdown",
   "metadata": {
    "id": "AMwW5I2ohBzv",
    "slideshow": {
     "slide_type": "fragment"
    }
   },
   "source": [
    "**Learn die Syntax**"
   ]
  },
  {
   "cell_type": "markdown",
   "metadata": {
    "id": "4Xr_v03PhREa"
   },
   "source": [
    "Sobald man die Syntax versteht, ist alles andere super einfach."
   ]
  },
  {
   "cell_type": "markdown",
   "metadata": {
    "id": "2K6oWOfWDO2F",
    "slideshow": {
     "slide_type": "fragment"
    }
   },
   "source": [
    "Es gibt immer mehrere Möglichkeiten, wie man ein Problem lösen kann.\n",
    "* Normalerweise müssen man einfach **irgendeinen** Weg finden, der das Problem löst.\n",
    "* Nur wenn man für Google etc. arbeitet, muss man tatsächlich den \"effizientesten\" Code finden."
   ]
  },
  {
   "cell_type": "markdown",
   "metadata": {
    "id": "TCFn8b7AWbAP",
    "slideshow": {
     "slide_type": "subslide"
    }
   },
   "source": [
    "Programmieren besteht hauptsächlich aus:"
   ]
  },
  {
   "cell_type": "markdown",
   "metadata": {
    "id": "sdLSmDPoXItG",
    "slideshow": {
     "slide_type": "fragment"
    }
   },
   "source": [
    "* 25% **Nachdenken**, darüber wie ein Problem gelöst werden könnte."
   ]
  },
  {
   "cell_type": "markdown",
   "metadata": {
    "id": "LAyn2GGTXWYp",
    "slideshow": {
     "slide_type": "fragment"
    }
   },
   "source": [
    "* 5% **Tatsächliches Programmieren**"
   ]
  },
  {
   "cell_type": "markdown",
   "metadata": {
    "id": "NW1W3hwEXaGq",
    "slideshow": {
     "slide_type": "fragment"
    }
   },
   "source": [
    "* 70% **Googling**"
   ]
  },
  {
   "cell_type": "markdown",
   "metadata": {
    "id": "3Qcj2NWUVxY_",
    "slideshow": {
     "slide_type": "subslide"
    }
   },
   "source": [
    "<img src=\"https://raw.githubusercontent.com/PerfXWeb/python-workshop-2day-ge/master/images/meme_googling.jpg\" width=\"60%\">"
   ]
  },
  {
   "cell_type": "markdown",
   "metadata": {
    "id": "4oPlTFXmaSAL",
    "slideshow": {
     "slide_type": "subslide"
    }
   },
   "source": [
    "* Die meiste Zeit muss ich auch die einfachsten Befehle googeln.\n",
    "* Wir werden lernen, wie man googelt.\n",
    "* Falls du während des Kurses auf irgendwelche Fehlr stößt - frag mich, oder..."
   ]
  },
  {
   "cell_type": "markdown",
   "metadata": {
    "id": "KbNjrwTLac1M",
    "slideshow": {
     "slide_type": "fragment"
    }
   },
   "source": [
    "...google."
   ]
  },
  {
   "cell_type": "markdown",
   "metadata": {
    "id": "wEfcmQORPsNT",
    "slideshow": {
     "slide_type": "subslide"
    }
   },
   "source": [
    "## Google Colab - Die Entwicklerumgebung, die wir heute verwenden\n",
    "* Ein einfacher Weg für den Einstieg\n",
    "* Kostenlose Computing-Ressourcen\n",
    "* Einfach zu teilen\n",
    "* Einfach in die eigene Google Drive zu kopieren\n",
    "* Es muss nichts auf dem Computer installiert werden"
   ]
  },
  {
   "cell_type": "markdown",
   "metadata": {
    "id": "6ls3qmLFZjMW",
    "slideshow": {
     "slide_type": "subslide"
    }
   },
   "source": [
    "## Wenn du Python auf deinem eigenen Computer installieren willst (Hausaufgabe für heute Abend)\n",
    "[Windows-Tutorial](https://phoenixnap.com/kbkjb/how-to-install-python-3-windows)\n",
    "\n",
    "[MacOS-Tutorial](https://docs.python-guide.org/starting/install3/osx/)\n",
    "\n",
    "**Ein paar Tipps, die du beachten solltest**:\n",
    "* Achte darauf, dass du Python 3 herunterlädst!\n",
    "* Stelle sicher, dass du pip auch auf Python 3 installierst (nicht auf Python 2)\n",
    "* Schau dir vielleicht \"Python Virtual Environments\" für das Package Management an."
   ]
  },
  {
   "cell_type": "markdown",
   "metadata": {
    "slideshow": {
     "slide_type": "subslide"
    }
   },
   "source": [
    "## Sehr empfehlenswert eine IDE (Integrated Programming Interface):\n",
    "- Ein Programm, dass es dir erleichtert, Code zu schreiben.\n",
    "- Nicht notwendig, aber hilft dabei, Fehler zu verhindern und schneller Code zu schreiben."
   ]
  },
  {
   "cell_type": "markdown",
   "metadata": {
    "id": "Ov9ath6tbfX-",
    "slideshow": {
     "slide_type": "slide"
    }
   },
   "source": [
    "# 1 - Data types / Variablen\n",
    "*Der Anfang von allem*"
   ]
  },
  {
   "cell_type": "markdown",
   "metadata": {
    "id": "4uUimrm5b9aQ",
    "slideshow": {
     "slide_type": "subslide"
    }
   },
   "source": [
    "## Intro\n",
    "* Variablen speichern Werte für dich, **während** du deinen Code ausführst.\n",
    " - Allerdings **nicht** um diese Werte dauerhaft zu speichern, um sie dann ein anderes Mal zu laden.\n",
    "* Es gibt 7 Datentypen, wir werden die wichtigsten durchgehen."
   ]
  },
  {
   "cell_type": "markdown",
   "metadata": {
    "id": "awhNUKMndDK_",
    "slideshow": {
     "slide_type": "fragment"
    }
   },
   "source": [
    "* Du kannst so viele Variablen setzen und überschreiben, wie du willst.\n",
    "* Du kannst deinen Variablen *fast* jeden Namen geben, den du willst.\n",
    "* Sonderzeichen: Du kannst *NUR* Unterstriche `_` verwenden\n",
    "* Name kann nicht NUR eine Zahl sein\n",
    "* Ein paar Namen sind *reservierte Namen*\n",
    " - z.B. `und`, `von`, `wenn`, `für`, `während`, `versuchen`, `break`,...."
   ]
  },
  {
   "cell_type": "markdown",
   "metadata": {
    "id": "mv_mX2wOpjOe",
    "slideshow": {
     "slide_type": "fragment"
    }
   },
   "source": [
    "* *Benutze KEINE Großbuchstaben in deinen Namen.*"
   ]
  },
  {
   "cell_type": "markdown",
   "metadata": {
    "id": "SBwndCwRkwGA",
    "slideshow": {
     "slide_type": "fragment"
    }
   },
   "source": [
    "**Im Gegensatz zu anderen Programmiersprachen verwendet Python automatisch den richtigen Datentyp, sobald du eine Variable setzt.**"
   ]
  },
  {
   "cell_type": "markdown",
   "metadata": {
    "id": "nQUUcRW8eBk1",
    "slideshow": {
     "slide_type": "skip"
    }
   },
   "source": [
    "> *Advanced: [Full list of reserved names / keywords](https://docs.python.org/2/reference/lexical_analysis.html?highlight=keywords#keywords)*"
   ]
  },
  {
   "cell_type": "markdown",
   "metadata": {
    "id": "YsPym4lBcxzj",
    "slideshow": {
     "slide_type": "subslide"
    }
   },
   "source": [
    "## Strings\n",
    "Jeglicher Text, den du speichern möchtest\n",
    "\n",
    "\n",
    "```python\n",
    "# <- anything that you write on the right side of a hashtag \n",
    "# will serve as a simple comment\n",
    "\n",
    "# Three ways, all of them are doing the same\n",
    "cems = \"This is some cems variable\"\n",
    "cems=\"This is some cems variable\"\n",
    "cems = 'This is some cems variable'\n",
    "# The variable cems now stores some text in it\n",
    "```\n",
    "\n"
   ]
  },
  {
   "cell_type": "markdown",
   "metadata": {
    "id": "SFFAuxutgnoD",
    "slideshow": {
     "slide_type": "subslide"
    }
   },
   "source": [
    "Pass auf einzelne und doppelte Anführungszeichen auf:\n",
    "\n"
   ]
  },
  {
   "cell_type": "code",
   "execution_count": 22,
   "metadata": {
    "id": "rKNjt5QwhA3D"
   },
   "outputs": [],
   "source": [
    "# single quotes in a double quote string\n",
    "cems_single = \"Here I've got an abbreviation in my text (I've).\"\n",
    "# double quotes in a single quote string\n",
    "cems_double = 'Here I can \"quote something in double quotes\" but not single ones.'"
   ]
  },
  {
   "cell_type": "code",
   "execution_count": 23,
   "metadata": {
    "colab": {
     "base_uri": "https://localhost:8080/",
     "height": 130
    },
    "id": "_JUa4udFiLqF",
    "outputId": "745c6d66-6cc5-46f3-9852-0e9f01de0b23",
    "slideshow": {
     "slide_type": "fragment"
    }
   },
   "outputs": [
    {
     "ename": "SyntaxError",
     "evalue": "invalid syntax (<ipython-input-23-686de77f327f>, line 2)",
     "output_type": "error",
     "traceback": [
      "\u001b[0;36m  File \u001b[0;32m\"<ipython-input-23-686de77f327f>\"\u001b[0;36m, line \u001b[0;32m2\u001b[0m\n\u001b[0;31m    cems_single_wrong = 'Here I've got some wrong code'\u001b[0m\n\u001b[0m                                ^\u001b[0m\n\u001b[0;31mSyntaxError\u001b[0m\u001b[0;31m:\u001b[0m invalid syntax\n"
     ]
    }
   ],
   "source": [
    "# This will not work\n",
    "cems_single_wrong = 'Here I've got some wrong code'"
   ]
  },
  {
   "cell_type": "markdown",
   "metadata": {
    "id": "oewPQgsWid8l",
    "slideshow": {
     "slide_type": "subslide"
    }
   },
   "source": [
    "*Quick workaround:*"
   ]
  },
  {
   "cell_type": "code",
   "execution_count": 24,
   "metadata": {
    "colab": {
     "base_uri": "https://localhost:8080/"
    },
    "id": "Q_gd6suBik9b",
    "outputId": "c6554b8f-8a66-439a-b186-73703fa26c59"
   },
   "outputs": [
    {
     "name": "stdout",
     "output_type": "stream",
     "text": [
      "Here I've got both single and \"double quotes\" in one variable\n",
      "Here I've got an abbreviation in my text (I've). Here I can \"quote something in double quotes\" but not single ones.\n"
     ]
    }
   ],
   "source": [
    "# Backslashes make bad characters harmless\n",
    "cems_single_double = \"Here I've got both single and \\\"double quotes\\\" in one variable\"\n",
    "\n",
    "# the print function print() displays whatever you put in between those parantheses\n",
    "print(cems_single_double)\n",
    "\n",
    "# Adding up variables also works\n",
    "cems_single = \"Here I've got an abbreviation in my text (I've). \"\n",
    "cems_double = 'Here I can \"quote something in double quotes\" but not single ones.'\n",
    "print(cems_single + cems_double)"
   ]
  },
  {
   "cell_type": "markdown",
   "metadata": {
    "id": "wlMALZV8jlz0",
    "slideshow": {
     "slide_type": "subslide"
    }
   },
   "source": [
    "### Aufgabe 1\n",
    "<img src=\"https://raw.githubusercontent.com/PerfXWeb/python-workshop-2day-ge/master/images/pw-individualexercise.png\" width=\"50%\">\n",
    "\n",
    "Kannst du erraten, was dieser Code macht:\n",
    "\n",
    "```python\n",
    "name = \"Matthias\"\n",
    "print(\"My name is\"+name)\n",
    "```\n",
    "\n",
    "*Fortgeschritten: Was ist eventuell falsch mit diesem Code?*"
   ]
  },
  {
   "cell_type": "code",
   "execution_count": 25,
   "metadata": {
    "colab": {
     "base_uri": "https://localhost:8080/"
    },
    "id": "IdZGn9MujuIT",
    "outputId": "c8e8f5a2-6560-4689-be6d-6b93237706bd",
    "slideshow": {
     "slide_type": "subslide"
    }
   },
   "outputs": [
    {
     "name": "stdout",
     "output_type": "stream",
     "text": [
      "My name isMatthias\n",
      "My name is Matthias\n"
     ]
    }
   ],
   "source": [
    "# Solution\n",
    "# this defines the variable name to be \"Matthias\"\n",
    "name = \"Matthias\"\n",
    "# this prints out a string AND then the variable name\n",
    "print(\"My name is\"+name)\n",
    "\n",
    "# small bug fix: Add a spacebar in between.\n",
    "print(\"My name is \"+name)"
   ]
  },
  {
   "cell_type": "markdown",
   "metadata": {
    "id": "rJXNYDCVkUpE",
    "slideshow": {
     "slide_type": "subslide"
    }
   },
   "source": [
    "## Integers und floats\n",
    "Zahlen, mit denen man rechnen kann.\n",
    "* Integers sind natürliche Zahlen ohne Komma.\n",
    "* Floats sind Dezimalzahlen. Sie haben IMMER ein Komma."
   ]
  },
  {
   "cell_type": "code",
   "execution_count": 26,
   "metadata": {
    "colab": {
     "base_uri": "https://localhost:8080/"
    },
    "id": "UsrRKXw0lEAa",
    "outputId": "230f17c2-1fdd-4721-b9ce-d8f779927d33",
    "slideshow": {
     "slide_type": "subslide"
    }
   },
   "outputs": [
    {
     "name": "stdout",
     "output_type": "stream",
     "text": [
      "20\n",
      "20.61\n",
      "42.61\n"
     ]
    }
   ],
   "source": [
    "# Define an integer\n",
    "some_number = 16 # Watch out, there are NO quotation marks!\n",
    "                 # That way Python knows what is a string and what not\n",
    "another_number = 4\n",
    "print(some_number + another_number)\n",
    "\n",
    "# Define a float\n",
    "some_float = 16.9\n",
    "another_float = 3.71\n",
    "print(some_float + another_float)\n",
    "\n",
    "# adding another value to an existing variable\n",
    "another_float = another_float + 2\n",
    "\n",
    "# add up both\n",
    "final_result = some_number + another_number + some_float + another_float\n",
    "print(final_result)"
   ]
  },
  {
   "cell_type": "markdown",
   "metadata": {
    "id": "mfzWa4dbl8PC",
    "slideshow": {
     "slide_type": "subslide"
    }
   },
   "source": [
    "Wie wir das Ergebnis noch sauberer darstellen können:"
   ]
  },
  {
   "cell_type": "code",
   "execution_count": 27,
   "metadata": {
    "colab": {
     "base_uri": "https://localhost:8080/"
    },
    "id": "kdUubH1Sl7bd",
    "outputId": "f8fb6c28-1b19-4583-878a-0e70ed49f1f0"
   },
   "outputs": [
    {
     "name": "stdout",
     "output_type": "stream",
     "text": [
      "42\n",
      "43\n",
      "42.6\n"
     ]
    }
   ],
   "source": [
    "# we turn that float into an integer\n",
    "make_an_integer_out_of_this = int(final_result) # int() will always round DOWN\n",
    "print(make_an_integer_out_of_this)\n",
    "\n",
    "# round correctly\n",
    "make_an_integer_out_of_this = round(final_result) # round() does what you expect\n",
    "print(make_an_integer_out_of_this)\n",
    "\n",
    "# round to one decimal\n",
    "make_an_integer_out_of_this = round(final_result, 1)\n",
    "                          # the round() function can also work with several parameters.\n",
    "print(make_an_integer_out_of_this)"
   ]
  },
  {
   "cell_type": "markdown",
   "metadata": {
    "id": "QXHof-nqnZL1",
    "slideshow": {
     "slide_type": "subslide"
    }
   },
   "source": [
    "Um Integer, Floats und Strings gemeinsam auszudrucken, benötigen wir eine kleine Adaption:"
   ]
  },
  {
   "cell_type": "code",
   "execution_count": 28,
   "metadata": {
    "colab": {
     "base_uri": "https://localhost:8080/",
     "height": 198
    },
    "id": "bTvxNVJZne9Y",
    "outputId": "b93abb43-d434-460c-be8f-aa155b1df976"
   },
   "outputs": [
    {
     "ename": "TypeError",
     "evalue": "can only concatenate str (not \"int\") to str",
     "output_type": "error",
     "traceback": [
      "\u001b[0;31m---------------------------------------------------------------------------\u001b[0m",
      "\u001b[0;31mTypeError\u001b[0m                                 Traceback (most recent call last)",
      "\u001b[0;32m<ipython-input-28-8376fb425322>\u001b[0m in \u001b[0;36m<module>\u001b[0;34m\u001b[0m\n\u001b[1;32m      1\u001b[0m \u001b[0;31m# This will NOT work\u001b[0m\u001b[0;34m\u001b[0m\u001b[0;34m\u001b[0m\u001b[0;34m\u001b[0m\u001b[0m\n\u001b[1;32m      2\u001b[0m \u001b[0msome_number\u001b[0m \u001b[0;34m=\u001b[0m \u001b[0;36m42\u001b[0m\u001b[0;34m\u001b[0m\u001b[0;34m\u001b[0m\u001b[0m\n\u001b[0;32m----> 3\u001b[0;31m \u001b[0mprint\u001b[0m\u001b[0;34m(\u001b[0m\u001b[0;34m\"The number is \"\u001b[0m \u001b[0;34m+\u001b[0m \u001b[0msome_number\u001b[0m \u001b[0;34m+\u001b[0m \u001b[0;34m\" and has always been \"\u001b[0m \u001b[0;34m+\u001b[0m \u001b[0msome_number\u001b[0m \u001b[0;34m+\u001b[0m \u001b[0;34m\".\"\u001b[0m\u001b[0;34m)\u001b[0m\u001b[0;34m\u001b[0m\u001b[0;34m\u001b[0m\u001b[0m\n\u001b[0m",
      "\u001b[0;31mTypeError\u001b[0m: can only concatenate str (not \"int\") to str"
     ]
    }
   ],
   "source": [
    "# This will NOT work\n",
    "some_number = 42\n",
    "print(\"The number is \" + some_number + \" and has always been \" + some_number + \".\")"
   ]
  },
  {
   "cell_type": "markdown",
   "metadata": {
    "id": "_FSrhN7HnoVN",
    "slideshow": {
     "slide_type": "subslide"
    }
   },
   "source": [
    "Wir müssen alles zuerst in einen String umwandeln:"
   ]
  },
  {
   "cell_type": "code",
   "execution_count": 29,
   "metadata": {
    "id": "YaX5-MAVnuam"
   },
   "outputs": [
    {
     "name": "stdout",
     "output_type": "stream",
     "text": [
      "The number is 42 and has always been 42.\n"
     ]
    }
   ],
   "source": [
    "# This will work\n",
    "some_number = 42\n",
    "print(\"The number is \" + str(some_number) + \" and has always been \" + str(some_number) + \".\")\n",
    "# str() works in the same way as int()"
   ]
  },
  {
   "cell_type": "code",
   "execution_count": 30,
   "metadata": {
    "id": "ZWGyP8G5oGUd",
    "slideshow": {
     "slide_type": "fragment"
    }
   },
   "outputs": [
    {
     "name": "stdout",
     "output_type": "stream",
     "text": [
      "The number is 42 and has always been 42.\n"
     ]
    }
   ],
   "source": [
    "# a much cooler way of printing: use f-strings\n",
    "# This automatically converts all other data types into a string\n",
    "# Only works in Python 3\n",
    "some_number = 42\n",
    "print(f\"The number is {some_number} and has always been {some_number}.\")"
   ]
  },
  {
   "cell_type": "markdown",
   "metadata": {
    "id": "iNEEAoVCo5hu",
    "slideshow": {
     "slide_type": "subslide"
    }
   },
   "source": [
    "### Aufgabe 2\n",
    "<img src=\"https://raw.githubusercontent.com/PerfXWeb/python-workshop-2day-ge/master/images/pw-individualexercise.png\" width=\"50%\">\n",
    "\n",
    "Wie können wir das Durchschnittsalter von Alex und Steve berechnen und dann \"Das Durchschnittsalter ist `XX`.\" ausdrucken? Runde die Zahl auf zwei Nachkommastellen.\n",
    "\n"
   ]
  },
  {
   "cell_type": "code",
   "execution_count": 31,
   "metadata": {
    "id": "024wE9Jhp_nZ",
    "slideshow": {
     "slide_type": "fragment"
    }
   },
   "outputs": [],
   "source": [
    "# Your variables\n",
    "alex = 33.5\n",
    "steve = 37.75\n",
    "text = \"The average age is \""
   ]
  },
  {
   "cell_type": "code",
   "execution_count": 32,
   "metadata": {
    "id": "kJ3vPOxjqPy1",
    "slideshow": {
     "slide_type": "subslide"
    }
   },
   "outputs": [],
   "source": [
    "# Solution\n",
    "average = round((alex + steve) / 2, 2)"
   ]
  },
  {
   "cell_type": "code",
   "execution_count": 33,
   "metadata": {
    "id": "VQrZevO_qX0-",
    "slideshow": {
     "slide_type": "fragment"
    }
   },
   "outputs": [
    {
     "name": "stdout",
     "output_type": "stream",
     "text": [
      "The average age is 35.62\n",
      "The average age is 35.62\n"
     ]
    }
   ],
   "source": [
    "# Solution\n",
    "print(text + str(average))\n",
    "# or\n",
    "print(f\"{text}{average}\")"
   ]
  },
  {
   "cell_type": "markdown",
   "metadata": {
    "id": "BbSO2X28q6sj",
    "slideshow": {
     "slide_type": "subslide"
    }
   },
   "source": [
    "*Nice*"
   ]
  },
  {
   "cell_type": "markdown",
   "metadata": {
    "id": "-GT6j2-iq-wb",
    "slideshow": {
     "slide_type": "subslide"
    }
   },
   "source": [
    "*Es fängt schon an, anspruchsvoll zu werden ;)*"
   ]
  },
  {
   "cell_type": "markdown",
   "metadata": {
    "id": "pd4r3zE8yxQx",
    "slideshow": {
     "slide_type": "subslide"
    }
   },
   "source": [
    "## Booleans\n",
    "True oder False.\n",
    "**Achtung: Der Anfangsbuchstabe muss groß geschrieben sein!**"
   ]
  },
  {
   "cell_type": "code",
   "execution_count": 34,
   "metadata": {
    "id": "UbpNwtWwy2bf"
   },
   "outputs": [
    {
     "name": "stdout",
     "output_type": "stream",
     "text": [
      "True\n",
      "The other variable says False\n"
     ]
    }
   ],
   "source": [
    "is_this_true = True\n",
    "is_this_false = False\n",
    "\n",
    "print(is_this_true)\n",
    "print(f\"The other variable says {is_this_false}\")"
   ]
  },
  {
   "cell_type": "markdown",
   "metadata": {
    "id": "8dpnjNEfrGxJ",
    "slideshow": {
     "slide_type": "subslide"
    }
   },
   "source": [
    "## Lists / Dictionaries / Arrays\n",
    "Eine Variable, die ein Bündel von Informationen speichert.\n",
    "* Sehr nützlich, wenn du ein Bündel von Informationen nacheinander durchgehen musst.\n",
    "* Nützlich, um den Überblick über alle Variablen zu behalten, die du verwendest.\n",
    "* Eine Variable kann mehrere Datentypen gleichzeitig speichern."
   ]
  },
  {
   "cell_type": "markdown",
   "metadata": {
    "id": "kDLwaYdUsA_y",
    "slideshow": {
     "slide_type": "subslide"
    }
   },
   "source": [
    "### Lists\n",
    "Speichere mehrere Wert in einer Sequenz.\n",
    "Benutze eckige Klammern `[ ]`."
   ]
  },
  {
   "cell_type": "code",
   "execution_count": 35,
   "metadata": {
    "id": "Us1q0Dr3sRz4",
    "slideshow": {
     "slide_type": "fragment"
    }
   },
   "outputs": [
    {
     "name": "stdout",
     "output_type": "stream",
     "text": [
      "Steve\n",
      "Karen\n"
     ]
    }
   ],
   "source": [
    "# List example\n",
    "# each variable gets an index number\n",
    "# index is:    0        1         2          3\n",
    "all_names = [\"Alex\", \"Steve\", \"Patricia\", \"Karen\"] # You MUST use square brackets to define a list\n",
    "\n",
    "# printing the second list item\n",
    "print(all_names[1])\n",
    "\n",
    "# printing the last list item\n",
    "print(all_names[-1])"
   ]
  },
  {
   "cell_type": "markdown",
   "metadata": {
    "id": "akSTmElxTsXJ",
    "slideshow": {
     "slide_type": "subslide"
    }
   },
   "source": [
    "<img src=\"https://raw.githubusercontent.com/PerfXWeb/python-workshop-2day-ge/master/images/meme_arrays.png\" width=\"50%\">"
   ]
  },
  {
   "cell_type": "code",
   "execution_count": 36,
   "metadata": {
    "id": "brAC6A-As_7D",
    "slideshow": {
     "slide_type": "subslide"
    }
   },
   "outputs": [
    {
     "name": "stdout",
     "output_type": "stream",
     "text": [
      "['Alex', 'Steve']\n",
      "['Patricia', 'Karen']\n",
      "['Steve', 'Patricia', 'Karen']\n",
      "['Steve', 'Patricia']\n"
     ]
    }
   ],
   "source": [
    "# Advanced:\n",
    "# printing the first two items (= end at index 1)\n",
    "print(all_names[:2])\n",
    "\n",
    "# printing the last two items (= start at -2)\n",
    "print(all_names[-2:])\n",
    "\n",
    "# printing every item except the first (= start at index 1)\n",
    "print(all_names[1:])\n",
    "\n",
    "# printing the second and third item (= start at index 1, end at index 2)\n",
    "print(all_names[1:3])"
   ]
  },
  {
   "cell_type": "markdown",
   "metadata": {
    "id": "bkkM_UV_t0jL",
    "slideshow": {
     "slide_type": "subslide"
    }
   },
   "source": [
    "Variablen können in derselben Art und Weise auch geändert werden:"
   ]
  },
  {
   "cell_type": "code",
   "execution_count": 37,
   "metadata": {
    "id": "Jz8saLR2t2aj"
   },
   "outputs": [
    {
     "name": "stdout",
     "output_type": "stream",
     "text": [
      "['Alex', 'Steve', 'Patricia', 'Karen']\n",
      "['Alex', 'Steve', 'not Patricia anymore', 'Karen']\n"
     ]
    }
   ],
   "source": [
    "# Editing the item from index 2\n",
    "all_names = [\"Alex\", \"Steve\", \"Patricia\", \"Karen\"]\n",
    "print(all_names)\n",
    "\n",
    "all_names[2] = \"not Patricia anymore\"\n",
    "print(all_names)"
   ]
  },
  {
   "cell_type": "markdown",
   "metadata": {
    "id": "PYvAey39uIMO",
    "slideshow": {
     "slide_type": "fragment"
    }
   },
   "source": [
    "Du kannst auch definieren, welche Variable du in einer anderen Variable ändern willst"
   ]
  },
  {
   "cell_type": "code",
   "execution_count": 38,
   "metadata": {
    "id": "WUXEm4shuN2_"
   },
   "outputs": [
    {
     "name": "stdout",
     "output_type": "stream",
     "text": [
      "['Alex', 'Steve', 'Patricia', \"I'm changing this\"]\n"
     ]
    }
   ],
   "source": [
    "# Editing a variable based on another variable\n",
    "index_to_change = 3\n",
    "all_names = [\"Alex\", \"Steve\", \"Patricia\", \"Karen\"]\n",
    "\n",
    "all_names[index_to_change] = \"I'm changing this\"\n",
    "print(all_names)"
   ]
  },
  {
   "cell_type": "markdown",
   "metadata": {
    "id": "lvDgAJmOuoHq",
    "slideshow": {
     "slide_type": "subslide"
    }
   },
   "source": [
    "Du kannst auch lists in lists oder dictionaries in dictionaries haben.\n",
    "Oder sogar dictionaries in lists."
   ]
  },
  {
   "cell_type": "code",
   "execution_count": 39,
   "metadata": {
    "id": "gXaGBqO2urpY"
   },
   "outputs": [
    {
     "name": "stdout",
     "output_type": "stream",
     "text": [
      "The newest member is Olga with an age of 40\n",
      "[['Alex', 25], ['Steve', 28], ['Patricia', 20], ['Olga', 40]]\n"
     ]
    }
   ],
   "source": [
    "# main one, now every name includes an age.\n",
    "all_names = [[\"Alex\", 25], [\"Steve\", 28], [\"Patricia\", 20], [\"Karen\", 42]]\n",
    "\n",
    "# we can also append another value\n",
    "another_woman = [\"Olga\", 40]\n",
    "all_names.append(another_woman) # the append() function adds the new item to the END of the list\n",
    "\n",
    "print(f\"The newest member is {all_names[-1][0]} with an age of {all_names[-1][1]}\")\n",
    "\n",
    "# we can also delete a specific value\n",
    "del(all_names[-2]) # we just deleted Karen out of the equation\n",
    "\n",
    "print(all_names)"
   ]
  },
  {
   "cell_type": "markdown",
   "metadata": {
    "id": "Lm2umZNVwSJm",
    "slideshow": {
     "slide_type": "subslide"
    }
   },
   "source": [
    "### Dictionaries\n",
    "Ähnlich zu lists, aber benutzen Namen anstatt von Zahlen als Index.\n",
    "Benutze geschwungene Klammern `{ }`."
   ]
  },
  {
   "cell_type": "code",
   "execution_count": 40,
   "metadata": {
    "id": "3o2BAV_Pwa40"
   },
   "outputs": [
    {
     "name": "stdout",
     "output_type": "stream",
     "text": [
      "{'name': 'Karen', 'age': 42, 'hobbies': 'Shouting at managers'}\n",
      "42\n"
     ]
    }
   ],
   "source": [
    "# dictionaries\n",
    "hobbies = \"Shouting at managers\"\n",
    "user_1 = {'name' : 'Karen', 'age': 42, 'hobbies':hobbies} # MUST use curly brackets.\n",
    "\n",
    "print(user_1)\n",
    "\n",
    "# now to print, we STILL use square brackets (don't ask me why)\n",
    "print(user_1['age'])"
   ]
  },
  {
   "cell_type": "code",
   "execution_count": 41,
   "metadata": {
    "id": "30aEmwu2x3Pb",
    "slideshow": {
     "slide_type": "fragment"
    }
   },
   "outputs": [
    {
     "name": "stdout",
     "output_type": "stream",
     "text": [
      "{'name': 'Karen', 'age': 42, 'hobbies': 'Shouting at managers very loudly', 'children': 0}\n"
     ]
    }
   ],
   "source": [
    "# changing variables or ADDING new ones is EXACTLY the same as with lists\n",
    "\n",
    "# changing\n",
    "user_1['hobbies'] = user_1['hobbies'] + \" very loudly\" # here I added two more words to the already existing\n",
    "\n",
    "# adding\n",
    "user_1['children'] = 0\n",
    "\n",
    "print(user_1)"
   ]
  },
  {
   "cell_type": "markdown",
   "metadata": {
    "id": "L7shYsgdzNvN",
    "slideshow": {
     "slide_type": "subslide"
    }
   },
   "source": [
    "### Aufgabe 3\n",
    "<img src=\"https://raw.githubusercontent.com/PerfXWeb/python-workshop-2day-ge/master/images/pw-individualexercise.png\" width=\"50%\">\n",
    "\n",
    "Wie können wir Karens Alter um ein Jahr erhöhen?"
   ]
  },
  {
   "cell_type": "code",
   "execution_count": 42,
   "metadata": {
    "id": "BBLY1jdGpgMx"
   },
   "outputs": [],
   "source": [
    "# Your variables\n",
    "users = [\n",
    "         {'name':'Alex', 'age':25, 'hobbies':'swimming'},\n",
    "         {'name':'Steve', 'age':28, 'hobbies':'studying'},\n",
    "         {'name':'Patricia', 'age':20, 'hobbies':'tennis'},\n",
    "         {'name':'Karen', 'age':42, 'hobbies':'shouting at managers'}\n",
    "]"
   ]
  },
  {
   "cell_type": "code",
   "execution_count": 43,
   "metadata": {
    "id": "7d_YVJtzqAu1",
    "slideshow": {
     "slide_type": "subslide"
    }
   },
   "outputs": [],
   "source": [
    "# Solution\n",
    "# one line of code\n",
    "users[3]['age'] = users[3]['age'] + 1"
   ]
  },
  {
   "cell_type": "markdown",
   "metadata": {
    "id": "Os0aBJS1tIuN",
    "slideshow": {
     "slide_type": "subslide"
    }
   },
   "source": [
    "## Part 1 - Zusammenfassung\n",
    "Wir haben folgendes gelernt:\n",
    "* Strings ( `\"hello\"` )\n",
    "* Integers ( `1234` )\n",
    "* Floats ( `1234.56` )\n",
    "* Booleans ( `True` )\n",
    "* Lists ( `[12, 23, \"hello\"]` )\n",
    "* Dictionaries ( `{'foo':'bar', 'foo2':'bar2'}` )\n",
    "\n"
   ]
  },
  {
   "cell_type": "markdown",
   "metadata": {
    "id": "iPIaZeD1u5lz",
    "slideshow": {
     "slide_type": "subslide"
    }
   },
   "source": [
    "*wundervoll!*"
   ]
  },
  {
   "cell_type": "markdown",
   "metadata": {
    "id": "MMuC8kp9XWsg",
    "slideshow": {
     "slide_type": "subslide"
    }
   },
   "source": [
    "<img src=\"https://raw.githubusercontent.com/PerfXWeb/python-workshop-2day-ge/master/images/pw-break.png\" width=\"60%\">"
   ]
  },
  {
   "cell_type": "markdown",
   "metadata": {
    "id": "rRQMkfZmu70V",
    "slideshow": {
     "slide_type": "slide"
    }
   },
   "source": [
    "# 2 - If sentences\n",
    "*Der Anfang vom echten Programmieren*"
   ]
  },
  {
   "cell_type": "markdown",
   "metadata": {
    "id": "j6lpzH0u1T1w",
    "slideshow": {
     "slide_type": "subslide"
    }
   },
   "source": [
    "## Basics"
   ]
  },
  {
   "cell_type": "markdown",
   "metadata": {
    "id": "T7xvccsVvX_D"
   },
   "source": [
    "Die zwei Grundlagen von if-Sätzen sind:\n",
    "* Benutze `if` um zu überprüfen, ob eine Bedingung erfüllt ist.\n",
    " - **Einrückung** des gesamten Codes, der nur ausgeführt werden soll, wenn die Bedingung erfüllt ist.\n",
    "* Verwende `else` nach einer `if`-Anweisung, um Code auszuführen, der ausgeführt werden soll, wenn eine Bedingung NICHT erfüllt ist.\n",
    " - **Einrücken** des gesamten Codes, der nur ausgeführt werden soll, wenn die `if` Bedingung nicht erfüllt ist"
   ]
  },
  {
   "cell_type": "markdown",
   "metadata": {
    "id": "-6ZlklA60vee"
   },
   "source": [
    "*Einrückungen sind in anderen Programmiersprachen nicht üblich. Die meisten Programmiersprachen verwenden Klammern, um zu definieren, was in einer if-Anweisung enthalten ist."
   ]
  },
  {
   "cell_type": "markdown",
   "metadata": {
    "id": "zqbXpgKjxiL7",
    "slideshow": {
     "slide_type": "subslide"
    }
   },
   "source": [
    "Einfaches Beispiel:"
   ]
  },
  {
   "cell_type": "code",
   "execution_count": 44,
   "metadata": {
    "id": "hAtn8b81xjyt"
   },
   "outputs": [
    {
     "name": "stdout",
     "output_type": "stream",
     "text": [
      "Not allowed to drink in the US\n"
     ]
    }
   ],
   "source": [
    "# some variables first\n",
    "my_age = 19\n",
    "\n",
    "if my_age>=21:\n",
    "  print(\"Allowed to drink in the US\") # don't forget indentation\n",
    "else:\n",
    "  print(\"Not allowed to drink in the US\")"
   ]
  },
  {
   "cell_type": "markdown",
   "metadata": {
    "id": "XV6G6J7syCcZ",
    "slideshow": {
     "slide_type": "subslide"
    }
   },
   "source": [
    "Für if-Sätze kannst du die folgenden Bedingungen verwenden:\n",
    "* `==`: gleich\n",
    "* `!=`: nicht gleich\n",
    "* `>`: größer als\n",
    "* `<`: kleiner als\n",
    "* `>=`: größer oder gleich\n",
    "* `<=`: kleiner oder gleich\n",
    "\n",
    "Du kannst auch jede **Funktion** als if-Operator verwenden (mehr dazu später). Wenn diese Funktion `False` zurückgibt, dann ist die Bedingung nicht erfüllt, ansonsten ist die Bedingung erfüllt."
   ]
  },
  {
   "cell_type": "markdown",
   "metadata": {
    "id": "eSLDCukm1jAe",
    "slideshow": {
     "slide_type": "subslide"
    }
   },
   "source": [
    "## `and`, `or` und `in` Parameter in if-Sätzen\n",
    "Wenn du mehrere Bedingungen gleichzeitig prüfen willst, dann kannst du die Parameter `and` und `or` verwenden. Wenn du nach einem Wert in einem String oder einer list/dictionary/array suchen willst, kannst du `in` verwenden.\n"
   ]
  },
  {
   "cell_type": "markdown",
   "metadata": {
    "id": "2eBU-kWc5d9Z",
    "slideshow": {
     "slide_type": "fragment"
    }
   },
   "source": [
    "Und es funktioniert alles genau so, wie man es sich vorstellt:"
   ]
  },
  {
   "cell_type": "markdown",
   "metadata": {
    "id": "2q_EVcgH0MKu",
    "slideshow": {
     "slide_type": "subslide"
    }
   },
   "source": [
    "Beispiele:"
   ]
  },
  {
   "cell_type": "code",
   "execution_count": 45,
   "metadata": {
    "id": "5pW-h9mB0LXQ"
   },
   "outputs": [
    {
     "name": "stdout",
     "output_type": "stream",
     "text": [
      "number is over 18\n",
      "str is in string\n",
      "Variable 'person' has a name and an age set!\n"
     ]
    }
   ],
   "source": [
    "# some variables first\n",
    "numbers = [19, 23, 39, 30]\n",
    "string = \"This is a string\"\n",
    "person = {'name':'Karen', 'age':23}\n",
    "\n",
    "if numbers[0]>18:\n",
    "  print(\"number is over 18\")\n",
    "\n",
    "if \"str\" in string:\n",
    "  print(\"str is in string\")\n",
    "\n",
    "if \"age\" in person and \"name\" in person:\n",
    "  print(\"Variable 'person' has a name and an age set!\")"
   ]
  },
  {
   "cell_type": "raw",
   "metadata": {
    "id": "qq_d5gfL7mVJ",
    "slideshow": {
     "slide_type": "subslide"
    }
   },
   "source": [
    "Fortgeschrittenes Beispiel:"
   ]
  },
  {
   "cell_type": "code",
   "execution_count": 46,
   "metadata": {
    "id": "zNpy0kbz7lqU"
   },
   "outputs": [
    {
     "name": "stdout",
     "output_type": "stream",
     "text": [
      "Age is 20 or 23 and name is Karen!\n"
     ]
    }
   ],
   "source": [
    "person = {'name':'Karen', 'age':23}\n",
    "\n",
    "if (person['age']==20 or person['age']==23) and person['name'].lower()==\"karen\":\n",
    "  print(\"Age is 20 or 23 and name is Karen!\")\n",
    "\n",
    "# the variable.lower() function converts all letters into lower-case letters"
   ]
  },
  {
   "cell_type": "markdown",
   "metadata": {
    "id": "e8ISzOms8jg8",
    "slideshow": {
     "slide_type": "subslide"
    }
   },
   "source": [
    "## Nested if-statements\n",
    "`if`-Sätze innerhalb von `if`-Sätzen heißen nested if-statements."
   ]
  },
  {
   "cell_type": "markdown",
   "metadata": {
    "id": "iufFSv8sBA0g",
    "slideshow": {
     "slide_type": "fragment"
    }
   },
   "source": [
    "Beispiel:"
   ]
  },
  {
   "cell_type": "markdown",
   "metadata": {
    "id": "U4r5yKC7DTqH",
    "slideshow": {
     "slide_type": "subslide"
    }
   },
   "source": [
    "Nest 0:"
   ]
  },
  {
   "cell_type": "code",
   "execution_count": 47,
   "metadata": {
    "id": "-j4bdaiDBBvK"
   },
   "outputs": [
    {
     "name": "stdout",
     "output_type": "stream",
     "text": [
      "Person is over 18.\n"
     ]
    }
   ],
   "source": [
    "person = {'name':'Karen', 'age':24, 'programming_grade':1}\n",
    "\n",
    "if person['age']>18:\n",
    "  print(\"Person is over 18.\")\n",
    "\n",
    "else:\n",
    "  print(\"Person is 18 or under.\")"
   ]
  },
  {
   "cell_type": "markdown",
   "metadata": {
    "id": "5eUnzlkeDWvW",
    "slideshow": {
     "slide_type": "subslide"
    }
   },
   "source": [
    "Nest 1:"
   ]
  },
  {
   "cell_type": "code",
   "execution_count": 48,
   "metadata": {
    "id": "PFJfMlrZDXZf"
   },
   "outputs": [
    {
     "name": "stdout",
     "output_type": "stream",
     "text": [
      "Person is over 18.\n",
      "Person's programming grade is lower than 2.\n"
     ]
    }
   ],
   "source": [
    "person = {'name':'Karen', 'age':24, 'programming_grade':1}\n",
    "\n",
    "if person['age']>18:\n",
    "  print(\"Person is over 18.\")\n",
    "\n",
    "  if person['programming_grade']<3:\n",
    "    print(\"Person's programming grade is lower than 2.\")\n",
    "  \n",
    "  else:\n",
    "    print(\"Programming grade is higher than 2.\")\n",
    "\n",
    "else:\n",
    "  print(\"Person is 18 or under.\")"
   ]
  },
  {
   "cell_type": "markdown",
   "metadata": {
    "id": "ldp3IcLbDaYR",
    "slideshow": {
     "slide_type": "subslide"
    }
   },
   "source": [
    "Nest 2:"
   ]
  },
  {
   "cell_type": "code",
   "execution_count": 49,
   "metadata": {
    "id": "UUA3C-fPDbJ_"
   },
   "outputs": [
    {
     "name": "stdout",
     "output_type": "stream",
     "text": [
      "Person is over 18.\n",
      "Person programming grade is lower than 2.\n",
      "And the person's name is Karen\n"
     ]
    }
   ],
   "source": [
    "person = {'name':'Karen', 'age':24, 'programming_grade':1}\n",
    "\n",
    "if person['age']>18:\n",
    "  print(\"Person is over 18.\")\n",
    "\n",
    "  if person['programming_grade']<3:\n",
    "    print(\"Person programming grade is lower than 2.\")\n",
    "\n",
    "    if person['name']==\"Karen\":\n",
    "      print(\"And the person's name is Karen\")\n",
    "    else:\n",
    "      print(\"But the person's name is not Karen\")\n",
    "  \n",
    "  else:\n",
    "    print(\"Programming grade is higher than 2.\")\n",
    "\n",
    "else:\n",
    "  print(\"Person is 18 or under.\")"
   ]
  },
  {
   "cell_type": "markdown",
   "metadata": {
    "id": "AzGBZTUbIvPP",
    "slideshow": {
     "slide_type": "subslide"
    }
   },
   "source": [
    "...one last thing..."
   ]
  },
  {
   "cell_type": "markdown",
   "metadata": {
    "id": "vrfqm1_fIq_H",
    "slideshow": {
     "slide_type": "subslide"
    }
   },
   "source": [
    "## `elif` statements\n",
    "*Eine Mischung aus `else` und `if`.*\n",
    "\n",
    "<i>Nur wenn die vorherigen Bedingungen nicht erfüllt wurden, dann probiere den `elif` Satz.</i>"
   ]
  },
  {
   "cell_type": "code",
   "execution_count": 50,
   "metadata": {
    "id": "lRkIzwhgLGXo",
    "slideshow": {
     "slide_type": "fragment"
    }
   },
   "outputs": [
    {
     "name": "stdout",
     "output_type": "stream",
     "text": [
      "Not allowed to drink in the US.\n"
     ]
    }
   ],
   "source": [
    "age = 20\n",
    "\n",
    "if age>=21:\n",
    "  print(\"Allowed to drink everything everywhere.\")\n",
    "elif age>=18:\n",
    "  print(\"Not allowed to drink in the US.\")\n",
    "elif age>=16:\n",
    "  print(\"Only allowed to drink beer & wine.\")\n",
    "else:\n",
    "  print(\"Not allowed to drink at all\")"
   ]
  },
  {
   "cell_type": "markdown",
   "metadata": {
    "id": "C3zBMaWnMOK8",
    "slideshow": {
     "slide_type": "subslide"
    }
   },
   "source": [
    "## Aufgabe 4 (gemeinsame Aufgabe)\n",
    "\n",
    "<img src=\"https://raw.githubusercontent.com/PerfXWeb/python-workshop-2day-ge/master/images/pw-groupexercise.png\" width=\"50%\">"
   ]
  },
  {
   "cell_type": "markdown",
   "metadata": {
    "id": "K3Ukb7seMXLw"
   },
   "source": [
    "Versuche das Folgende zu programmieren:\n",
    "* Wir bekommen ein zufälliges Passwort als Eingabe.\n",
    "* Wir müssen prüfen, ob das Passwort die folgenden Kriterien erfüllt:\n",
    " - Die Länge des Passwortes muss mindestens 8 Zeichen betragen *(Tipp: Benutze `len(Variable)`, um die Anzahl der Zeichen in einer Variable zu erhalten)*\n",
    " - Das Passwort muss mindestens einen Großbuchstaben enthalten *(Tipp: Verwende `variable.lower()` um eine Variable in Kleinbuchstaben umzuwandeln)*\n",
    " - Das Passwort muss den Buchstaben \"e\" enthalten\n",
    "* für jede Bedingung eine entsprechende Fehlermeldung ausgeben (mit `else` Anweisungen)\n",
    "* Wenn alle Bedingungen erfüllt sind, drucke `\"success\"` aus."
   ]
  },
  {
   "cell_type": "markdown",
   "metadata": {
    "id": "6NPwVjf4sjLm",
    "slideshow": {
     "slide_type": "subslide"
    }
   },
   "source": [
    "### Bevor wir anfangen: Exkurs zum Googeln des Python-Vokabulars\n",
    "Wie findet man Funktionen wie `len(Variable)` oder `variable.lower()`, wenn man von all dem keine Ahnung hat?\n",
    "\n",
    "[Google: Python variable length (for `len(variable)`)](https://www.google.com/search?q=python+variable+length)\n",
    "\n",
    "[Google: Python lowercase (for `str.lower()`)](https://www.google.com/search?q=python+lowercase)"
   ]
  },
  {
   "cell_type": "markdown",
   "metadata": {
    "id": "e8Dn8VmxEiGU",
    "slideshow": {
     "slide_type": "subslide"
    }
   },
   "source": [
    "### Die Aufgabe"
   ]
  },
  {
   "cell_type": "code",
   "execution_count": 51,
   "metadata": {
    "id": "pms1XkhsNNPT"
   },
   "outputs": [],
   "source": [
    "# The password variable\n",
    "password = \"Abc25eSdd\""
   ]
  },
  {
   "cell_type": "code",
   "execution_count": 52,
   "metadata": {
    "id": "UE2YtVMKQRSp",
    "slideshow": {
     "slide_type": "subslide"
    }
   },
   "outputs": [
    {
     "name": "stdout",
     "output_type": "stream",
     "text": [
      "success\n"
     ]
    }
   ],
   "source": [
    "# Solution\n",
    "password = \"Abc25eSdd\"\n",
    "\n",
    "if len(password)>7:\n",
    "  if password.lower()!=password: # this compares the lowercase password with the normal password.\n",
    "    # If they were equal, it would mean that there is no uppercase letter.\n",
    "    if \"e\" in password.lower():\n",
    "            # I used variable.lower() here again, in case the letter E is capitalised in the password\n",
    "      print(\"success\")\n",
    "    else:\n",
    "      print(\"The password must include an 'e'\")\n",
    "  else:\n",
    "    print(\"The password must include at least one uppercase letter.\")\n",
    "else:\n",
    "  print(\"The length of the password must be at least 8 characters long.\")\n"
   ]
  },
  {
   "cell_type": "markdown",
   "metadata": {
    "id": "l9M2-B4rfbzk",
    "slideshow": {
     "slide_type": "slide"
    }
   },
   "source": [
    "# 3 - Loops\n",
    "**Loops**\n",
    "\n",
    "*Loops*\n",
    "\n",
    "Loops\n",
    "\n",
    "...\n"
   ]
  },
  {
   "cell_type": "markdown",
   "metadata": {
    "id": "bDbXPU0DoW6M",
    "slideshow": {
     "slide_type": "fragment"
    }
   },
   "source": [
    "Schleifen helfen dir, bestimmten Code so oft zu wiederholen, wie du ihn brauchst."
   ]
  },
  {
   "cell_type": "markdown",
   "metadata": {
    "id": "Avu4lVyUoQCn",
    "slideshow": {
     "slide_type": "subslide"
    }
   },
   "source": [
    "## Der Unterschied zwischen `while` und `for` Schleifen\n",
    "Es gibt zwei verschiedene Schleifentypen\n",
    "* `while` Schleifen - wiederholen, solange eine Bedingung wahr ist (ähnlich wie eine if-Anweisung)\n",
    "* `for` Schleifen - gehen durch jedes Element in einer Liste *(oder Array, Tupel, Set, etc.)*\n",
    "\n",
    "Theoretisch können beide in gewisser Weise synonym verwendet werden."
   ]
  },
  {
   "cell_type": "markdown",
   "metadata": {
    "id": "-H3ejqeTpliK",
    "slideshow": {
     "slide_type": "subslide"
    }
   },
   "source": [
    "## `while` loops"
   ]
  },
  {
   "cell_type": "markdown",
   "metadata": {
    "id": "bjiwhgXFpxU9"
   },
   "source": [
    "Einfaches Beispiel: Wir wollen runterzählen, bis wir das legale Alter für Alkoholkonsum in den USA erreicht haben."
   ]
  },
  {
   "cell_type": "code",
   "execution_count": 53,
   "metadata": {
    "id": "fNErlV5Epk-a"
   },
   "outputs": [
    {
     "name": "stdout",
     "output_type": "stream",
     "text": [
      " Happy birthday! 3 more years to go.\n",
      " Happy birthday! 2 more years to go.\n",
      " Happy birthday! 1 more years to go.\n",
      "Happy birthday! You're allowed to drink now!\n"
     ]
    }
   ],
   "source": [
    "# setting an age\n",
    "age = 18\n",
    "\n",
    "while age < 21:\n",
    "  print(f\" Happy birthday! {21-age} more years to go.\")\n",
    "  age = age + 1\n",
    "\n",
    "print(\"Happy birthday! You're allowed to drink now!\")"
   ]
  },
  {
   "cell_type": "markdown",
   "metadata": {
    "id": "OTc3DROXrN3Y",
    "slideshow": {
     "slide_type": "subslide"
    }
   },
   "source": [
    "## `for` loops"
   ]
  },
  {
   "cell_type": "markdown",
   "metadata": {
    "id": "MNheQcigrQOL"
   },
   "source": [
    "Einfaches Beispiel: Wir wollen alle in einer Liste grüßen"
   ]
  },
  {
   "cell_type": "code",
   "execution_count": 54,
   "metadata": {
    "id": "of-zrojxrc_z"
   },
   "outputs": [
    {
     "name": "stdout",
     "output_type": "stream",
     "text": [
      "Hello Mark\n",
      "Hello Steve\n",
      "Hello Elon\n",
      "Hello Melinda\n",
      "Hello Bill\n",
      "Hello Angela\n",
      "Hello Melania\n"
     ]
    }
   ],
   "source": [
    "# setting a few names in a list\n",
    "names = ['Mark', 'Steve', 'Elon', 'Melinda', 'Bill', 'Angela', 'Melania']\n",
    "\n",
    "for i in names:\n",
    "  # In this for loop, 'i' is a temporary variable that will be \n",
    "  # set as the current item of the list for the current loop.\n",
    "  # We can name this temporary variable any way we want.\n",
    "  print(f\"Hello {i}\")"
   ]
  },
  {
   "cell_type": "markdown",
   "metadata": {
    "id": "nsVrITENT715",
    "slideshow": {
     "slide_type": "subslide"
    }
   },
   "source": [
    "<img src=\"https://raw.githubusercontent.com/PerfXWeb/python-workshop-2day-ge/master/images/meme_looplaws.jpeg\" width=\"50%\">\n"
   ]
  },
  {
   "cell_type": "markdown",
   "metadata": {
    "slideshow": {
     "slide_type": "subslide"
    }
   },
   "source": [
    "Schleifen werden oft verwendet, um durch einen Datensatz zu gehen und eine Aktion für jeden Eintrag auszuführen:"
   ]
  },
  {
   "cell_type": "code",
   "execution_count": 55,
   "metadata": {},
   "outputs": [
    {
     "name": "stdout",
     "output_type": "stream",
     "text": [
      "Mark has reached the legal drinking age\n",
      "Steve has reached the legal drinking age\n",
      "Elon has reached the legal drinking age\n",
      "Melinda is too young!\n",
      "Bill has reached the legal drinking age\n",
      "Angela is too young!\n",
      "Melania has reached the legal drinking age\n"
     ]
    }
   ],
   "source": [
    "names = [['Mark', 22], ['Steve', 45], ['Elon', 55], ['Melinda', 18],\n",
    "         ['Bill', 24], ['Angela', 20], ['Melania', 70]]\n",
    "\n",
    "for i in names:\n",
    "    # checks if person is at least 21 years old\n",
    "    if i[1]>=21:\n",
    "        print(f\"{i[0]} has reached the legal drinking age\")\n",
    "    else:\n",
    "        print(f\"{i[0]} is too young!\")\n",
    "        # maybe do some database updating here or something\n"
   ]
  },
  {
   "cell_type": "markdown",
   "metadata": {
    "id": "A8MYW6yFrz-b",
    "slideshow": {
     "slide_type": "subslide"
    }
   },
   "source": [
    "Wie immer können wir auch mehrere if-Anweisungen und for-Schleifen kombinieren *(fortgeschritten)*:"
   ]
  },
  {
   "cell_type": "code",
   "execution_count": 56,
   "metadata": {
    "id": "ca442d-Nt1db"
   },
   "outputs": [
    {
     "name": "stdout",
     "output_type": "stream",
     "text": [
      "Mark has a total balance of: 1588\n",
      "Steve has a total balance of: 1279\n",
      "Elon has a total balance of: 1864\n",
      "Melinda has a total balance of: 1342\n",
      "Bill has a total balance of: 11687\n",
      "Angela has a total balance of: 63\n",
      "Melania has a total balance of: 810\n"
     ]
    }
   ],
   "source": [
    "# setting up names with bank balances (assuming people have several banks)\n",
    "names = [\n",
    "         {'name':'Mark', 'bank_balances':[45,234,964,233,112]},\n",
    "         {'name':'Steve', 'bank_balances':[1234,23,22]},\n",
    "         {'name':'Elon', 'bank_balances':[420,69,365,1010]},\n",
    "         {'name':'Melinda', 'bank_balances':[831,44,244,223]},\n",
    "         {'name':'Bill', 'bank_balances':[34,353,3555,7742,3]},\n",
    "         {'name':'Angela', 'bank_balances':[39,22,2]},\n",
    "         {'name':'Melania', 'bank_balances':[383,335,2,66,24]}\n",
    "        ]\n",
    "\n",
    "for name in names:\n",
    "  if 'name' in name and 'bank_balances' in name: # just checks if the variables we need are set\n",
    "    \n",
    "    curr_balance = 0 # we use this variable to add up the balances every time\n",
    "    for value in name['bank_balances']:\n",
    "      curr_balance = curr_balance + value\n",
    "    \n",
    "    print(f\"{name['name']} has a total balance of: {curr_balance}\")"
   ]
  },
  {
   "cell_type": "markdown",
   "metadata": {
    "id": "Ve0lw7ZF32I_",
    "slideshow": {
     "slide_type": "subslide"
    }
   },
   "source": [
    "### `range()` Funktion\n",
    "`range()` erzeugt eine Art Liste von Zahlen mit dem von dir angegebenen Bereich. Die `for` Schleife wird durch diese Zahlen laufen."
   ]
  },
  {
   "cell_type": "code",
   "execution_count": 57,
   "metadata": {
    "id": "QcuIwX4B43yw"
   },
   "outputs": [
    {
     "name": "stdout",
     "output_type": "stream",
     "text": [
      "printing number 0 out of 10\n",
      "printing number 1 out of 10\n",
      "printing number 2 out of 10\n",
      "printing number 3 out of 10\n",
      "printing number 4 out of 10\n",
      "printing number 5 out of 10\n",
      "printing number 6 out of 10\n",
      "printing number 7 out of 10\n",
      "printing number 8 out of 10\n",
      "printing number 9 out of 10\n"
     ]
    }
   ],
   "source": [
    "for i in range(10):\n",
    "  print(f\"printing number {i} out of 10\")\n",
    "  # remember, lists start at value 0. This will only count up to number 9"
   ]
  },
  {
   "cell_type": "code",
   "execution_count": 58,
   "metadata": {
    "id": "7Y-HRopk5G5r",
    "slideshow": {
     "slide_type": "fragment"
    }
   },
   "outputs": [
    {
     "name": "stdout",
     "output_type": "stream",
     "text": [
      "printing number 1 out of 10\n",
      "printing number 2 out of 10\n",
      "printing number 3 out of 10\n",
      "printing number 4 out of 10\n",
      "printing number 5 out of 10\n",
      "printing number 6 out of 10\n",
      "printing number 7 out of 10\n",
      "printing number 8 out of 10\n",
      "printing number 9 out of 10\n",
      "printing number 10 out of 10\n"
     ]
    }
   ],
   "source": [
    "# if you want to count from 1 to 10, you have to set a starting number and an end number\n",
    "for i in range(1,11):\n",
    "  print(f\"printing number {i} out of 10\")"
   ]
  },
  {
   "cell_type": "markdown",
   "metadata": {
    "id": "DdxJ8FdQ29qQ",
    "slideshow": {
     "slide_type": "subslide"
    }
   },
   "source": [
    "## Erweitert: Coole Features, die sowohl in `for`- als auch in `while`-Schleifen funktionieren\n",
    "* `break` Befehl: Beendet die Schleife komplett\n",
    "* `continue` Kommando: Stoppt die Schleife des aktuellen Elements und geht zum nächsten weiter"
   ]
  },
  {
   "cell_type": "markdown",
   "metadata": {
    "id": "NwmQc_oIq9TN"
   },
   "source": [
    "*Erweitert Wenn du eine Schleife auf unbestimmte Zeit laufen lassen willst, kannst du auch einfach `True` als Bedingung in `while` Schleifen verwenden:*"
   ]
  },
  {
   "cell_type": "code",
   "execution_count": 59,
   "metadata": {
    "id": "Dva1VgaNrH5X",
    "slideshow": {
     "slide_type": "subslide"
    }
   },
   "outputs": [
    {
     "name": "stdout",
     "output_type": "stream",
     "text": [
      "printing 5.000000715255737\n",
      "printing 10.005290031433105\n",
      "printing 15.008363008499146\n",
      "printing 20.011411905288696\n",
      "printing 25.013893842697144\n",
      "printing 30.01856780052185\n",
      "printing 35.02040195465088\n",
      "printing 40.022000789642334\n",
      "printing 45.02421998977661\n"
     ]
    }
   ],
   "source": [
    "# advanced\n",
    "import time\n",
    "now = time.time()\n",
    "\n",
    "while True:\n",
    "  if time.time()-now < 5:\n",
    "    continue # this will skip the loop until this condition is not met anymore\n",
    "  elif time.time()-now > 50:\n",
    "    break # this will stop the while loop completely\n",
    "\n",
    "  print(f\"printing {time.time()-now}\")\n",
    "  time.sleep(5) # this makes the code pause for 5 seconds"
   ]
  },
  {
   "cell_type": "markdown",
   "metadata": {
    "id": "3YOIHYtZDxOB",
    "slideshow": {
     "slide_type": "subslide"
    }
   },
   "source": [
    "## Aufgabe 5 (gemeinsame Aufgabe)\n",
    "<img src=\"https://raw.githubusercontent.com/PerfXWeb/python-workshop-2day-ge/master/images/pw-break.png\" width=\"50%\">\n",
    "<img src=\"https://raw.githubusercontent.com/PerfXWeb/python-workshop-2day-ge/master/images/pw-groupexercise.png\" width=\"50%\">\n",
    "\n",
    "* Wir erhalten einen Datensatz mit einigen Emissionswerten.\n",
    "* Wir müssen den Durchschnitt aller Emissionswerte berechnen, ABER wir wollen Werte, die zu groß sind, von unserem Durchschnitt ausschließen (beispielsweise, weil die Werte falsch gemessen wurden).\n",
    "* Berechne den Durchschnitt aller Werte, bei denen der Emissionswert NIEDRIGER als 10 ist."
   ]
  },
  {
   "cell_type": "markdown",
   "metadata": {
    "id": "LEvGmsLRGPXW",
    "slideshow": {
     "slide_type": "subslide"
    }
   },
   "source": [
    "*Hinweise:*\n",
    "- *Es gibt VIELE Möglichkeiten, wie du dieses Problem lösen kannst*\n",
    "- *Verwendet eine `for` Schleife. (der einfachste Weg)*\n",
    "- *Abhängig davon, wie du das Problem löst, brauchst du vielleicht eine eigene `count`-Variable (oder ähnliches), um die Anzahl der Werte zu zählen, über die du den Durchschnitt bildest (damit du weißt, durch welche Zahl du deine Summe teilen musst)."
   ]
  },
  {
   "cell_type": "code",
   "execution_count": 60,
   "metadata": {
    "id": "jvwbSWFQOhH4",
    "slideshow": {
     "slide_type": "subslide"
    }
   },
   "outputs": [],
   "source": [
    "# your variables\n",
    "emissions = [11.3, 7.5, 3.6, 7.7, 3.5, 9.9, 10.0, 8.4, 4.4, 7.6, 2.5, 14.5, 6.9, 9.6]"
   ]
  },
  {
   "cell_type": "code",
   "execution_count": 61,
   "metadata": {
    "id": "J4ovI385QBf4",
    "slideshow": {
     "slide_type": "subslide"
    }
   },
   "outputs": [
    {
     "name": "stdout",
     "output_type": "stream",
     "text": [
      "6.509090909090909\n"
     ]
    }
   ],
   "source": [
    "# Solution (1) - the not so elegant way\n",
    "divide = 0 # counting the number of valid entries\n",
    "total = 0 # summing up all valid entries\n",
    "for i in emissions:\n",
    "    if i<10: # if entry is valid, update our variables\n",
    "        total = total + i\n",
    "        divide = divide + 1\n",
    "\n",
    "average = total / divide # calculate average\n",
    "print(average)"
   ]
  },
  {
   "cell_type": "code",
   "execution_count": 62,
   "metadata": {
    "slideshow": {
     "slide_type": "subslide"
    }
   },
   "outputs": [
    {
     "name": "stdout",
     "output_type": "stream",
     "text": [
      "6.509090909090909\n"
     ]
    }
   ],
   "source": [
    "# Solution (2) - much more elegant (using remove(), sum() and len())\n",
    "for i in emissions:\n",
    "    if i>=10: # if entry is valid, remove from that list\n",
    "        emissions.remove(i)\n",
    "        \n",
    "average = sum(emissions) / len(emissions) # calculate average\n",
    "\n",
    "print(average)"
   ]
  },
  {
   "cell_type": "code",
   "execution_count": 63,
   "metadata": {
    "slideshow": {
     "slide_type": "subslide"
    }
   },
   "outputs": [
    {
     "name": "stdout",
     "output_type": "stream",
     "text": [
      "6.509090909090909\n"
     ]
    }
   ],
   "source": [
    "# Solution (3) - fancy way using numpy (a very popular Python package for data analysis)\n",
    "import numpy as np\n",
    "\n",
    "emissions_array = np.array(emissions) # turn list into a Numpy array\n",
    "emissions_array_filtered = emissions_array[i < 10] # filter out all invalid entries\n",
    "average = np.average(emissions_array_filtered) # calculate average\n",
    "\n",
    "print(average)"
   ]
  },
  {
   "cell_type": "code",
   "execution_count": 64,
   "metadata": {
    "slideshow": {
     "slide_type": "subslide"
    }
   },
   "outputs": [
    {
     "name": "stdout",
     "output_type": "stream",
     "text": [
      "6.509090909090909\n"
     ]
    }
   ],
   "source": [
    "# Solution (4) - Basically Solution 3 but much slicker\n",
    "import numpy as np\n",
    "average = np.average(np.array(emissions)[i < 10])\n",
    "print(average)"
   ]
  },
  {
   "cell_type": "markdown",
   "metadata": {
    "id": "ftr_aSarSk2z",
    "slideshow": {
     "slide_type": "slide"
    }
   },
   "source": [
    "# 4 - Funktionen\n",
    "*Schreibe Code ein Mal, benutze ihn öfter*"
   ]
  },
  {
   "cell_type": "markdown",
   "metadata": {
    "id": "92oLn0nZTQIS",
    "slideshow": {
     "slide_type": "fragment"
    }
   },
   "source": [
    "Wir haben bisher schon Funktionen in unserem Code verwendet:\n",
    "```python\n",
    "print(\"hello world\") # prints something onto the display\n",
    "len(variable) # returns the length of a string or array\n",
    "del(variable[2]) # deletes an item out of a list\n",
    "```"
   ]
  },
  {
   "cell_type": "markdown",
   "metadata": {
    "id": "2aF-00lPVRhJ",
    "slideshow": {
     "slide_type": "fragment"
    }
   },
   "source": [
    "Jetzt werden wir lernen, wie wir unsere eigenen Funktionen erstellen können"
   ]
  },
  {
   "cell_type": "markdown",
   "metadata": {
    "id": "E9kLT5BjWLbT",
    "slideshow": {
     "slide_type": "subslide"
    }
   },
   "source": [
    "## Eine Funktion definieren\n",
    "Ist ganz einfach:"
   ]
  },
  {
   "cell_type": "code",
   "execution_count": 65,
   "metadata": {
    "id": "5R91jtr9WQL3"
   },
   "outputs": [],
   "source": [
    "def myfunction():\n",
    "  print(\"Every time I call this function, this is printed\")"
   ]
  },
  {
   "cell_type": "markdown",
   "metadata": {
    "id": "-EX2u9C3WWOB",
    "slideshow": {
     "slide_type": "fragment"
    }
   },
   "source": [
    "Jetzt können wir unsere Funktion aufrufen:"
   ]
  },
  {
   "cell_type": "code",
   "execution_count": 66,
   "metadata": {
    "id": "UJMtoX4kWYVq"
   },
   "outputs": [
    {
     "name": "stdout",
     "output_type": "stream",
     "text": [
      "Every time I call this function, this is printed\n"
     ]
    }
   ],
   "source": [
    "myfunction()"
   ]
  },
  {
   "cell_type": "markdown",
   "metadata": {
    "id": "yBGHmRUxWbZb",
    "slideshow": {
     "slide_type": "subslide"
    }
   },
   "source": [
    "## Argumente hinzufügen\n",
    "Funktioniert folgendermaßen:"
   ]
  },
  {
   "cell_type": "code",
   "execution_count": 67,
   "metadata": {
    "id": "5SAUh56LWjA4"
   },
   "outputs": [],
   "source": [
    "def greeting(name):\n",
    "  print(f\"This is a message for {name}\")"
   ]
  },
  {
   "cell_type": "markdown",
   "metadata": {
    "id": "BhfHUBPRWu5k",
    "slideshow": {
     "slide_type": "fragment"
    }
   },
   "source": [
    "jetzt können wir diese Funktion mit einem Parameter aufrufen:"
   ]
  },
  {
   "cell_type": "code",
   "execution_count": 68,
   "metadata": {
    "id": "SEcOBfk_WyEO"
   },
   "outputs": [
    {
     "name": "stdout",
     "output_type": "stream",
     "text": [
      "This is a message for Elena\n",
      "This is a message for John\n"
     ]
    }
   ],
   "source": [
    "greeting(\"Elena\")\n",
    "greeting(\"John\")"
   ]
  },
  {
   "cell_type": "markdown",
   "metadata": {
    "id": "JjNOzti1XU2R",
    "slideshow": {
     "slide_type": "fragment"
    }
   },
   "source": [
    "Wenn wir nun dieses Argument nicht definieren, wird die Funktion fehlschlagen:"
   ]
  },
  {
   "cell_type": "code",
   "execution_count": 70,
   "metadata": {
    "id": "uOjXXeCFXbNy"
   },
   "outputs": [
    {
     "ename": "TypeError",
     "evalue": "greeting() missing 1 required positional argument: 'name'",
     "output_type": "error",
     "traceback": [
      "\u001b[0;31m---------------------------------------------------------------------------\u001b[0m",
      "\u001b[0;31mTypeError\u001b[0m                                 Traceback (most recent call last)",
      "\u001b[0;32m<ipython-input-70-b450c4c5145c>\u001b[0m in \u001b[0;36m<module>\u001b[0;34m\u001b[0m\n\u001b[1;32m      1\u001b[0m \u001b[0;31m# this will NOT work\u001b[0m\u001b[0;34m\u001b[0m\u001b[0;34m\u001b[0m\u001b[0;34m\u001b[0m\u001b[0m\n\u001b[0;32m----> 2\u001b[0;31m \u001b[0mgreeting\u001b[0m\u001b[0;34m(\u001b[0m\u001b[0;34m)\u001b[0m\u001b[0;34m\u001b[0m\u001b[0;34m\u001b[0m\u001b[0m\n\u001b[0m",
      "\u001b[0;31mTypeError\u001b[0m: greeting() missing 1 required positional argument: 'name'"
     ]
    }
   ],
   "source": [
    "# this will NOT work\n",
    "greeting()"
   ]
  },
  {
   "cell_type": "markdown",
   "metadata": {
    "id": "EwOgoiwzYSu4",
    "slideshow": {
     "slide_type": "subslide"
    }
   },
   "source": [
    "Was wir tun können, damit das nicht passiert: Argumente vordefinieren"
   ]
  },
  {
   "cell_type": "code",
   "execution_count": 71,
   "metadata": {
    "id": "LZfHJpoYYapJ"
   },
   "outputs": [],
   "source": [
    "def greeting2(name=\"Elton\"):\n",
    "  print(f\"This is a message for {name}\")"
   ]
  },
  {
   "cell_type": "markdown",
   "metadata": {
    "id": "9dLHRIK_Y54G",
    "slideshow": {
     "slide_type": "fragment"
    }
   },
   "source": [
    "Jetzt können wir die Funktion sowohl *mit*, als auch *ohne* Argument aufrufen:"
   ]
  },
  {
   "cell_type": "code",
   "execution_count": 72,
   "metadata": {
    "id": "vcxVdYMFZRNc"
   },
   "outputs": [
    {
     "name": "stdout",
     "output_type": "stream",
     "text": [
      "This is a message for Elton\n",
      "This is a message for Jessica\n"
     ]
    }
   ],
   "source": [
    "greeting2()\n",
    "greeting2(\"Jessica\")"
   ]
  },
  {
   "cell_type": "markdown",
   "metadata": {
    "id": "j2EBHPdkZjuF",
    "slideshow": {
     "slide_type": "subslide"
    }
   },
   "source": [
    "## \"Return\" eines Ergebnisses aus einer Funktion\n",
    "Lass uns eine Funktion erstellen, die Zinsen berechnet:"
   ]
  },
  {
   "cell_type": "code",
   "execution_count": 73,
   "metadata": {
    "id": "4sWJa6jiabSw"
   },
   "outputs": [],
   "source": [
    "def calculate_interest(capital, interest, years):\n",
    "  capital = round(capital*interest**years)\n",
    "  \n",
    "  # now return the result (without printing)\n",
    "  return capital"
   ]
  },
  {
   "cell_type": "markdown",
   "metadata": {
    "id": "z91fNeJ8bAh1",
    "slideshow": {
     "slide_type": "fragment"
    }
   },
   "source": [
    "Mit dieser Funktion können wir nun sehr schnell Zinsen berechnen:"
   ]
  },
  {
   "cell_type": "code",
   "execution_count": 74,
   "metadata": {
    "id": "2NQt54EwbQ7d"
   },
   "outputs": [
    {
     "name": "stdout",
     "output_type": "stream",
     "text": [
      "We calculated a future capital of 2079\n",
      "We calculated a future capital of 2079\n"
     ]
    }
   ],
   "source": [
    "my_interest = calculate_interest(1000, 1.05, 15)\n",
    "print(f\"We calculated a future capital of {my_interest}\")\n",
    "\n",
    "# or we could also just use:\n",
    "print(f\"We calculated a future capital of {calculate_interest(1000, 1.05, 15)}\")"
   ]
  },
  {
   "cell_type": "markdown",
   "metadata": {
    "id": "8ddsCGJZceri",
    "slideshow": {
     "slide_type": "subslide"
    }
   },
   "source": [
    "## Aufgabe 6\n",
    "\n",
    "<img src=\"https://raw.githubusercontent.com/PerfXWeb/python-workshop-2day-ge/master/images/pw-groupexercise.png\" width=\"50%\">"
   ]
  },
  {
   "cell_type": "markdown",
   "metadata": {
    "id": "bK5RbMNgdEEE"
   },
   "source": [
    "Erstelle eine Funktion, die den Durchschnitt von drei gegebenen Zahlen zurückgibt. Das Ergebnis sollte wie folgt aussehen:\n",
    "```python\n",
    "result = average_calc(11, 13, 25)\n",
    "print(result)\n",
    "```"
   ]
  },
  {
   "cell_type": "markdown",
   "metadata": {
    "id": "vf5f1y3qhi7Q",
    "slideshow": {
     "slide_type": "fragment"
    }
   },
   "source": [
    "*Bonus wenn die Funktion Listen (`[11, 13, 25]`) als Parameter unterstützt. Wenn möglich, erstelle eine Funktion, die den Durchschnitt einer beliebigen Menge von Zahlen zurückgibt.*"
   ]
  },
  {
   "cell_type": "code",
   "execution_count": 75,
   "metadata": {
    "id": "ZpvvSsVlhoQr",
    "slideshow": {
     "slide_type": "subslide"
    }
   },
   "outputs": [
    {
     "name": "stdout",
     "output_type": "stream",
     "text": [
      "16.333333333333332\n"
     ]
    }
   ],
   "source": [
    "# Solution\n",
    "def average_calc(no1, no2, no3):\n",
    "  return (no1+no2+no3)/3\n",
    "\n",
    "\n",
    "result = average_calc(11, 13, 25)\n",
    "print(result)"
   ]
  },
  {
   "cell_type": "code",
   "execution_count": 76,
   "metadata": {
    "id": "NBUVX-CjidZ2",
    "slideshow": {
     "slide_type": "fragment"
    }
   },
   "outputs": [
    {
     "name": "stdout",
     "output_type": "stream",
     "text": [
      "16.333333333333332\n",
      "28.666666666666668\n"
     ]
    }
   ],
   "source": [
    "# Solution (Bonus)\n",
    "def average_calc(numbers):\n",
    "  return sum(numbers)/len(numbers)\n",
    "\n",
    "\n",
    "result = average_calc([11, 13, 25])\n",
    "print(result)\n",
    "result = average_calc([11, 13, 25, 22, 2, 99])\n",
    "print(result)"
   ]
  },
  {
   "cell_type": "markdown",
   "metadata": {
    "id": "RENDiAR-jdCn",
    "slideshow": {
     "slide_type": "slide"
    }
   },
   "source": [
    "# 5 - Klassen und Objekte\n",
    "*Ein fortgeschrittenes Thema .... Aber es ist gut, die Grundlagen der Objektorientierung zu kennen*"
   ]
  },
  {
   "cell_type": "markdown",
   "metadata": {
    "id": "7xsyJl7NmDzF",
    "slideshow": {
     "slide_type": "fragment"
    }
   },
   "source": [
    "Der Hauptgrund, warum wir lernen, was Klassen sind:\n",
    "* Im Grunde basiert alles in Python darauf."
   ]
  },
  {
   "cell_type": "markdown",
   "metadata": {
    "id": "82PsSx9HlVUb",
    "slideshow": {
     "slide_type": "subslide"
    }
   },
   "source": [
    "## The Big Picture\n",
    "classes, objects, methods (basically functions), attributes"
   ]
  },
  {
   "cell_type": "markdown",
   "metadata": {
    "id": "GK4B6tUXpaXe"
   },
   "source": [
    "![picture](https://raw.githubusercontent.com/PerfXWeb/python-workshop-2day-ge/master/images/ed_classes-objects-methods-attributes.png)"
   ]
  },
  {
   "cell_type": "markdown",
   "metadata": {
    "id": "u6cnGdNtpzvo",
    "slideshow": {
     "slide_type": "subslide"
    }
   },
   "source": [
    "* Eine **Klasse** ist der Bauplan, um Objekte zu erstellen.\n",
    " - Du kannst so viele Objekte aus einer Klasse erstellen, wie du willst\n",
    " - Du kannst auch Argumente übergeben, während du ein Objekt erstellst\n",
    "* Ein **Objekt** behält sowohl Attribute (Daten) als auch Methoden (Funktionen)\n",
    " - Es ist im Grunde eine Mischung aus einem Array und einer Reihe von Funktionen.\n",
    "* **Methoden** sind Funktionen, die innerhalb eines Objekts ausgeführt werden können.\n",
    "* **Attribute** speichern Werte eines Objekts"
   ]
  },
  {
   "cell_type": "markdown",
   "metadata": {
    "id": "ACLUEIVUq8xE",
    "slideshow": {
     "slide_type": "subslide"
    }
   },
   "source": [
    "## Und so sieht das ganze in Code aus:"
   ]
  },
  {
   "cell_type": "code",
   "execution_count": 77,
   "metadata": {
    "id": "SCe5MkU7q-FQ"
   },
   "outputs": [],
   "source": [
    "# creating a class\n",
    "class Tree():\n",
    "  # the __init__ function (two underscores left and right) is only being executed ONCE \n",
    "  # when you create a new object.\n",
    "  def __init__(self, branches, apples):\n",
    "    # every object automatically passes ITSELF to every function. It is commonly defined as \"self\"\n",
    "    # We ALWAYS need to define this \"self\" argument at the beginning of each object function\n",
    "    self.branches = branches\n",
    "    self.apples = apples\n",
    "    self.carved_in_names = []\n",
    "\n",
    "  def carve(self, name):\n",
    "    self.carved_in_names.append(name)\n",
    "    print(f\"Successfully carved in {name}\")\n",
    "    # if we want, we can return something, but we don't really have to\n",
    "    return self.carved_in_names\n",
    "\n",
    "  def look_at_carved_names(self):\n",
    "    print(f\"Look at all these carved in names: {self.carved_in_names}\")\n"
   ]
  },
  {
   "cell_type": "code",
   "execution_count": 78,
   "metadata": {
    "id": "8M1IG4uAPSnZ",
    "slideshow": {
     "slide_type": "fragment"
    }
   },
   "outputs": [],
   "source": [
    "# now, we'll create two different trees\n",
    "tree1 = Tree(8, 15)\n",
    "tree2 = Tree(3, 0)"
   ]
  },
  {
   "cell_type": "code",
   "execution_count": 79,
   "metadata": {
    "id": "iAO1Gco0P2FT",
    "slideshow": {
     "slide_type": "subslide"
    }
   },
   "outputs": [
    {
     "name": "stdout",
     "output_type": "stream",
     "text": [
      "8\n",
      "0\n",
      "10\n"
     ]
    }
   ],
   "source": [
    "# we can check for the number of branches and apples (=attributes) in each tree like this:\n",
    "print(tree1.branches)\n",
    "print(tree2.apples)\n",
    "\n",
    "# we can also change it:\n",
    "tree1.branches = 10\n",
    "print(tree1.branches)"
   ]
  },
  {
   "cell_type": "code",
   "execution_count": 80,
   "metadata": {
    "id": "5nyFmyIFQGWH",
    "slideshow": {
     "slide_type": "fragment"
    }
   },
   "outputs": [
    {
     "name": "stdout",
     "output_type": "stream",
     "text": [
      "Successfully carved in Matthias\n",
      "Successfully carved in Brad\n",
      "Successfully carved in Sophie\n",
      "Look at all these carved in names: ['Brad', 'Sophie']\n"
     ]
    }
   ],
   "source": [
    "# now let's carve in some names into our trees using methods:\n",
    "tree1.carve(\"Matthias\")\n",
    "tree2.carve(\"Brad\")\n",
    "tree2.carve(\"Sophie\")\n",
    "\n",
    "# and we can check out the number of carved-in names by performing our other method:\n",
    "tree2.look_at_carved_names()"
   ]
  },
  {
   "cell_type": "markdown",
   "metadata": {
    "id": "0lnFaqDTSgzu",
    "slideshow": {
     "slide_type": "subslide"
    }
   },
   "source": [
    "## Aufgabe 7 (für daheim)\n",
    "<img src=\"https://raw.githubusercontent.com/PerfXWeb/python-workshop-2day-ge/master/images/pw-groupexercise.png\" width=\"50%\">"
   ]
  },
  {
   "cell_type": "markdown",
   "metadata": {
    "id": "7Ai-BL1ibA1I"
   },
   "source": [
    "* Erstelle eine Klasse namens `Flipflop` mit einer Ganzzahl `div` (eine Zahl) als Argument\n",
    " - `check1 = FlipFlop(3)`\n",
    "* erzeuge eine Methode `divisible` (=Funktion) in dieser Klasse mit einer weiteren Ganzzahl `maxint` als Argument. Die Funktion soll x-mal eine Schleife machen und \"flip\" ausgeben, wenn die aktuelle Zahl nicht durch `div` teilbar ist, oder \"flop\" ausgeben, wenn die aktuelle Zahl *durch `div` teilbar ist.\n",
    " - `check1.divisible(100)`\n",
    "\n",
    "Diese soll folgendes ausdrucken:\n",
    "```\n",
    "0: flop    # flop first, because we always start at 0\n",
    "1: flip\n",
    "2: flip\n",
    "3: flop\n",
    "4: flip\n",
    "5: flip\n",
    "6: flop\n",
    "...\n",
    "```"
   ]
  },
  {
   "cell_type": "markdown",
   "metadata": {
    "id": "dpx5LDQvfUXL",
    "slideshow": {
     "slide_type": "subslide"
    }
   },
   "source": [
    "*Bonusübung:*\n",
    "- *Erstelle eine weitere Methode `divisible_or_self`, die nicht nur \"flop\" ausgibt, wenn die Zahl durch `div` teilbar ist, sondern auch, wenn eine der Ziffern der aktuellen Zahl gleich `div` ist*.\n",
    " - *z.B. wenn `div` 3 ist, dann sollte auch die Zahl 13, 133 oder 35 \"flop\" sein</i>*"
   ]
  },
  {
   "cell_type": "markdown",
   "metadata": {
    "id": "h_BOoivlhiOz",
    "slideshow": {
     "slide_type": "subslide"
    }
   },
   "source": [
    "**Wichtig:** Googlen, sollte etwas nicht verständlich sein.\n",
    "\n",
    "Z.B.: \"Python check if divisible\""
   ]
  },
  {
   "cell_type": "code",
   "execution_count": 81,
   "metadata": {
    "id": "IsADtxAEg9Tn",
    "slideshow": {
     "slide_type": "subslide"
    }
   },
   "outputs": [
    {
     "name": "stdout",
     "output_type": "stream",
     "text": [
      "0: Flop\n",
      "1: Flip\n",
      "2: Flip\n",
      "3: Flop\n",
      "4: Flip\n",
      "5: Flip\n",
      "6: Flop\n",
      "7: Flip\n",
      "8: Flip\n",
      "9: Flop\n",
      "10: Flip\n",
      "11: Flip\n",
      "12: Flop\n",
      "13: Flip\n",
      "14: Flip\n",
      "15: Flop\n",
      "16: Flip\n",
      "17: Flip\n",
      "18: Flop\n",
      "19: Flip\n",
      "20: Flip\n",
      "21: Flop\n",
      "22: Flip\n",
      "23: Flip\n",
      "24: Flop\n",
      "25: Flip\n",
      "26: Flip\n",
      "27: Flop\n",
      "28: Flip\n",
      "29: Flip\n",
      "30: Flop\n",
      "31: Flip\n",
      "32: Flip\n",
      "33: Flop\n",
      "34: Flip\n",
      "35: Flip\n",
      "36: Flop\n",
      "37: Flip\n",
      "38: Flip\n",
      "39: Flop\n",
      "40: Flip\n",
      "41: Flip\n",
      "42: Flop\n",
      "43: Flip\n",
      "44: Flip\n",
      "45: Flop\n",
      "46: Flip\n",
      "47: Flip\n",
      "48: Flop\n",
      "49: Flip\n",
      "50: Flip\n",
      "51: Flop\n",
      "52: Flip\n",
      "53: Flip\n",
      "54: Flop\n",
      "55: Flip\n",
      "56: Flip\n",
      "57: Flop\n",
      "58: Flip\n",
      "59: Flip\n",
      "60: Flop\n",
      "61: Flip\n",
      "62: Flip\n",
      "63: Flop\n",
      "64: Flip\n",
      "65: Flip\n",
      "66: Flop\n",
      "67: Flip\n",
      "68: Flip\n",
      "69: Flop\n",
      "70: Flip\n",
      "71: Flip\n",
      "72: Flop\n",
      "73: Flip\n",
      "74: Flip\n",
      "75: Flop\n",
      "76: Flip\n",
      "77: Flip\n",
      "78: Flop\n",
      "79: Flip\n",
      "80: Flip\n",
      "81: Flop\n",
      "82: Flip\n",
      "83: Flip\n",
      "84: Flop\n",
      "85: Flip\n",
      "86: Flip\n",
      "87: Flop\n",
      "88: Flip\n",
      "89: Flip\n",
      "90: Flop\n",
      "91: Flip\n",
      "92: Flip\n",
      "93: Flop\n",
      "94: Flip\n",
      "95: Flip\n",
      "96: Flop\n",
      "97: Flip\n",
      "98: Flip\n",
      "99: Flop\n"
     ]
    }
   ],
   "source": [
    "# Solution\n",
    "\n",
    "class FlipFlop():\n",
    "  def __init__(self, div):\n",
    "    self.div = div\n",
    "\n",
    "  def divisible(self, maxint):\n",
    "    for x in range(maxint):\n",
    "      if x % self.div == 0:\n",
    "        print(f\"{x}: Flop\")\n",
    "      else:\n",
    "        print(f\"{x}: Flip\")\n",
    "\n",
    "\n",
    "check1 = FlipFlop(3)\n",
    "check1.divisible(100)"
   ]
  },
  {
   "cell_type": "code",
   "execution_count": 82,
   "metadata": {
    "id": "e0g9xTLEkQRe",
    "slideshow": {
     "slide_type": "subslide"
    }
   },
   "outputs": [
    {
     "name": "stdout",
     "output_type": "stream",
     "text": [
      "0: Flop\n",
      "1: Flip\n",
      "2: Flip\n",
      "3: Flop\n",
      "4: Flip\n",
      "5: Flip\n",
      "6: Flop\n",
      "7: Flip\n",
      "8: Flip\n",
      "9: Flop\n",
      "10: Flip\n",
      "11: Flip\n",
      "12: Flop\n",
      "13: Flop\n",
      "14: Flip\n",
      "15: Flop\n",
      "16: Flip\n",
      "17: Flip\n",
      "18: Flop\n",
      "19: Flip\n",
      "20: Flip\n",
      "21: Flop\n",
      "22: Flip\n",
      "23: Flop\n",
      "24: Flop\n",
      "25: Flip\n",
      "26: Flip\n",
      "27: Flop\n",
      "28: Flip\n",
      "29: Flip\n",
      "30: Flop\n",
      "31: Flop\n",
      "32: Flop\n",
      "33: Flop\n",
      "34: Flop\n",
      "35: Flop\n",
      "36: Flop\n",
      "37: Flop\n",
      "38: Flop\n",
      "39: Flop\n",
      "40: Flip\n",
      "41: Flip\n",
      "42: Flop\n",
      "43: Flop\n",
      "44: Flip\n",
      "45: Flop\n",
      "46: Flip\n",
      "47: Flip\n",
      "48: Flop\n",
      "49: Flip\n",
      "50: Flip\n",
      "51: Flop\n",
      "52: Flip\n",
      "53: Flop\n",
      "54: Flop\n",
      "55: Flip\n",
      "56: Flip\n",
      "57: Flop\n",
      "58: Flip\n",
      "59: Flip\n",
      "60: Flop\n",
      "61: Flip\n",
      "62: Flip\n",
      "63: Flop\n",
      "64: Flip\n",
      "65: Flip\n",
      "66: Flop\n",
      "67: Flip\n",
      "68: Flip\n",
      "69: Flop\n",
      "70: Flip\n",
      "71: Flip\n",
      "72: Flop\n",
      "73: Flop\n",
      "74: Flip\n",
      "75: Flop\n",
      "76: Flip\n",
      "77: Flip\n",
      "78: Flop\n",
      "79: Flip\n",
      "80: Flip\n",
      "81: Flop\n",
      "82: Flip\n",
      "83: Flop\n",
      "84: Flop\n",
      "85: Flip\n",
      "86: Flip\n",
      "87: Flop\n",
      "88: Flip\n",
      "89: Flip\n",
      "90: Flop\n",
      "91: Flip\n",
      "92: Flip\n",
      "93: Flop\n",
      "94: Flip\n",
      "95: Flip\n",
      "96: Flop\n",
      "97: Flip\n",
      "98: Flip\n",
      "99: Flop\n"
     ]
    }
   ],
   "source": [
    "# Solution (incl. bonus)\n",
    "\n",
    "class FlipFlop():\n",
    "  def __init__(self, div):\n",
    "    self.div = div\n",
    "\n",
    "  def divisible(self, maxint):\n",
    "    for x in range(maxint):\n",
    "      if x % self.div == 0:\n",
    "        print(f\"{x}: Flop\")\n",
    "      else:\n",
    "        print(f\"{x}: Flip\")\n",
    "\n",
    "  def divisible_or_self(self, maxint):\n",
    "    for x in range(maxint):\n",
    "      if x % self.div == 0 or str(self.div) in str(x):\n",
    "                              # to check every digit, we have to use str() to convert it.\n",
    "                              # otherwise we get an \"argument of type 'int' is not iterable\" error.\n",
    "        print(f\"{x}: Flop\")\n",
    "      else:\n",
    "        print(f\"{x}: Flip\")\n",
    "\n",
    "\n",
    "check1 = FlipFlop(3)\n",
    "check1.divisible_or_self(100)"
   ]
  },
  {
   "cell_type": "markdown",
   "metadata": {
    "id": "Lw2DoivBl5y-",
    "slideshow": {
     "slide_type": "slide"
    }
   },
   "source": [
    "# 6 - Imports\n",
    "*Du kannst jetzt schon mehr mit Python machen, als du denkst!*"
   ]
  },
  {
   "cell_type": "markdown",
   "metadata": {
    "id": "PfojPhlbmOvS"
   },
   "source": [
    "Bis jetzt haben wir eine Menge über die Python-Syntax gelernt... aber können wir auch schon etwas wirklich damit programmieren?"
   ]
  },
  {
   "cell_type": "markdown",
   "metadata": {
    "id": "_4hHY9_FSn6p",
    "slideshow": {
     "slide_type": "subslide"
    }
   },
   "source": [
    "<img src=\"https://raw.githubusercontent.com/PerfXWeb/python-workshop-2day-ge/master/images/meme-imports.jpg\" width=\"50%\">"
   ]
  },
  {
   "cell_type": "markdown",
   "metadata": {
    "id": "DZHPIHGVno7a",
    "slideshow": {
     "slide_type": "subslide"
    }
   },
   "source": [
    "DU kannst jetzt tatsächlich ALLES mit Imports erreichen!\n",
    "* Durch die Verwendung des `import` Befehls kannst du Module in deinen Code einbinden, die dir eine Menge Zeit sparen.\n",
    "* Ein importiertes Modul funktioniert sehr ähnlich wie Python-Klassen und -Objekte\n",
    "* Um herauszufinden, welche Module du willst/brauchst und wie sie funktionieren:"
   ]
  },
  {
   "cell_type": "markdown",
   "metadata": {
    "id": "GAshY-JqpaLO",
    "slideshow": {
     "slide_type": "fragment"
    }
   },
   "source": [
    "**GOOGLE ist dein bester Freund**"
   ]
  },
  {
   "cell_type": "markdown",
   "metadata": {
    "id": "RF9NQWLhpg50",
    "slideshow": {
     "slide_type": "subslide"
    }
   },
   "source": [
    "Beispiele von hilfreichen imports:"
   ]
  },
  {
   "cell_type": "code",
   "execution_count": 83,
   "metadata": {
    "id": "g5BZWlfsn6kl"
   },
   "outputs": [
    {
     "name": "stdout",
     "output_type": "stream",
     "text": [
      "1623765494.8061109\n",
      "1623765499.8108668\n"
     ]
    }
   ],
   "source": [
    "import time # we have already used the time module before\n",
    "\n",
    "print(time.time()) # prints out UNIX timestamp (number of seconds since Jan 1 1970)\n",
    "time.sleep(5) # waits for 5 seconds\n",
    "print(time.time())"
   ]
  },
  {
   "cell_type": "markdown",
   "metadata": {
    "id": "M5yftbHKrOn0",
    "slideshow": {
     "slide_type": "subslide"
    }
   },
   "source": [
    "Ein gutes Beispiel, wie ich es nicht geschafft habe, eine API (Application Programming Interface) zu integrieren:"
   ]
  },
  {
   "cell_type": "code",
   "execution_count": 84,
   "metadata": {
    "id": "0wXp0AQqpwoQ"
   },
   "outputs": [
    {
     "ename": "TypeError",
     "evalue": "byte indices must be integers or slices, not str",
     "output_type": "error",
     "traceback": [
      "\u001b[0;31m---------------------------------------------------------------------------\u001b[0m",
      "\u001b[0;31mTypeError\u001b[0m                                 Traceback (most recent call last)",
      "\u001b[0;32m<ipython-input-84-b3d493cccb38>\u001b[0m in \u001b[0;36m<module>\u001b[0;34m\u001b[0m\n\u001b[1;32m      7\u001b[0m             \u001b[0;31m# Unfortunately, \"joke\" is now an object, so we don't see anything\u001b[0m\u001b[0;34m\u001b[0m\u001b[0;34m\u001b[0m\u001b[0;34m\u001b[0m\u001b[0m\n\u001b[1;32m      8\u001b[0m \u001b[0;31m#print(joke.__dict__) # __dict__ shows you every attribute of an object. That way we can find out more.\u001b[0m\u001b[0;34m\u001b[0m\u001b[0;34m\u001b[0m\u001b[0;34m\u001b[0m\u001b[0m\n\u001b[0;32m----> 9\u001b[0;31m \u001b[0mprint\u001b[0m\u001b[0;34m(\u001b[0m\u001b[0mjoke\u001b[0m\u001b[0;34m.\u001b[0m\u001b[0mcontent\u001b[0m\u001b[0;34m[\u001b[0m\u001b[0;34m'value'\u001b[0m\u001b[0;34m]\u001b[0m\u001b[0;34m)\u001b[0m \u001b[0;31m# I wanted to print out the value, but it didn't work\u001b[0m\u001b[0;34m\u001b[0m\u001b[0;34m\u001b[0m\u001b[0m\n\u001b[0m\u001b[1;32m     10\u001b[0m \u001b[0;34m\u001b[0m\u001b[0m\n\u001b[1;32m     11\u001b[0m \u001b[0;31m# Looked it up on Google...\u001b[0m\u001b[0;34m\u001b[0m\u001b[0;34m\u001b[0m\u001b[0;34m\u001b[0m\u001b[0m\n",
      "\u001b[0;31mTypeError\u001b[0m: byte indices must be integers or slices, not str"
     ]
    }
   ],
   "source": [
    "import requests\n",
    "\n",
    "# Chuck Norris API: https://api.chucknorris.io\n",
    "\n",
    "joke = requests.get(\"https://api.chucknorris.io/jokes/random\")\n",
    "#print(joke) # this usually prints out everything.\n",
    "            # Unfortunately, \"joke\" is now an object, so we don't see anything\n",
    "#print(joke.__dict__) # __dict__ shows you every attribute of an object. That way we can find out more.\n",
    "print(joke.content['value']) # I wanted to print out the value, but it didn't work\n",
    "\n",
    "# Looked it up on Google..."
   ]
  },
  {
   "cell_type": "markdown",
   "metadata": {
    "id": "wVh0qqMlsINP",
    "slideshow": {
     "slide_type": "fragment"
    }
   },
   "source": [
    "Gelöst durch [diesen Stackoverflow post](https://stackoverflow.com/questions/52102398/typeerror-byte-indices-must-be-integers-or-slices-not-str/52102506)."
   ]
  },
  {
   "cell_type": "code",
   "execution_count": 85,
   "metadata": {
    "id": "B6ygLxQfr6VP",
    "slideshow": {
     "slide_type": "subslide"
    }
   },
   "outputs": [
    {
     "name": "stdout",
     "output_type": "stream",
     "text": [
      "Chuck Norris put mark zuckerberg in ICU....he poked him on facebook\n"
     ]
    }
   ],
   "source": [
    "# turns out I need to convert from a JSON format into a normal Python dictionary format\n",
    "import requests\n",
    "import json \n",
    "\n",
    "joke = requests.get(\"https://api.chucknorris.io/jokes/random\")\n",
    "result = json.loads(joke.content)\n",
    "print(result['value'])\n"
   ]
  },
  {
   "cell_type": "markdown",
   "metadata": {
    "id": "eEfsRE-fsjN4",
    "slideshow": {
     "slide_type": "subslide"
    }
   },
   "source": [
    "Noch ein hilfreiches Beispiel:"
   ]
  },
  {
   "cell_type": "code",
   "execution_count": 86,
   "metadata": {
    "id": "o9P3HgYHslB0"
   },
   "outputs": [
    {
     "data": {
      "image/png": "[encoded data removed]",
      "text/plain": [
       "<Figure size 432x288 with 1 Axes>"
      ]
     },
     "metadata": {
      "needs_background": "light"
     },
     "output_type": "display_data"
    }
   ],
   "source": [
    "# this uses a module within a module (matplotlib.pyplot) and renames it to plt\n",
    "import matplotlib.pyplot as plt\n",
    "# we can always rename modules to write less code\n",
    "import numpy as np \n",
    "\n",
    "xpoints = np.array([0, 6, 10, 15, 20, 22]) # creates an array (a REAL array) with all x-values\n",
    "ypoints = np.array([0, 250, 300, 222, 343, 350]) # same for y-values.\n",
    "# Both arrays need to have the same amount of values!\n",
    "\n",
    "plt.plot(xpoints, ypoints) # this plots all values into a graph\n",
    "plt.show() # this shows it on the display (similar to print)"
   ]
  },
  {
   "cell_type": "markdown",
   "metadata": {
    "id": "6noCL5mK41Ew",
    "slideshow": {
     "slide_type": "fragment"
    }
   },
   "source": [
    "Wir können schon erraten, was dieser Code macht, indem wir uns die Namen der Methoden ansehen. Im Zweifelsfalls können wir auch einfach [googlen](https://www.google.com/search?q=python+plt.plot&ie=UTF-8&oe=UTF-8)."
   ]
  },
  {
   "cell_type": "markdown",
   "metadata": {
    "id": "3agMNbsctspP",
    "slideshow": {
     "slide_type": "subslide"
    }
   },
   "source": [
    "Ratet, was ideser Code macht:"
   ]
  },
  {
   "cell_type": "code",
   "execution_count": 87,
   "metadata": {
    "id": "XrvZ137P2FGE"
   },
   "outputs": [
    {
     "name": "stdout",
     "output_type": "stream",
     "text": [
      "START BROWSER AT 2021-06-15 15:58:30.695995\n",
      "setting up firefox browser\n",
      "setting up firefox browser done\n"
     ]
    },
    {
     "ename": "AttributeError",
     "evalue": "'bool' object has no attribute 'send_keys'",
     "output_type": "error",
     "traceback": [
      "\u001b[0;31m---------------------------------------------------------------------------\u001b[0m",
      "\u001b[0;31mAttributeError\u001b[0m                            Traceback (most recent call last)",
      "\u001b[0;32m<ipython-input-87-4512b3567542>\u001b[0m in \u001b[0;36m<module>\u001b[0;34m\u001b[0m\n\u001b[1;32m     18\u001b[0m \u001b[0mdriver\u001b[0m\u001b[0;34m.\u001b[0m\u001b[0mget\u001b[0m\u001b[0;34m(\u001b[0m\u001b[0;34m\"https://lpis.wu.ac.at/lpis\"\u001b[0m\u001b[0;34m)\u001b[0m\u001b[0;34m\u001b[0m\u001b[0;34m\u001b[0m\u001b[0m\n\u001b[1;32m     19\u001b[0m \u001b[0mtime\u001b[0m\u001b[0;34m.\u001b[0m\u001b[0msleep\u001b[0m\u001b[0;34m(\u001b[0m\u001b[0;36m3\u001b[0m\u001b[0;34m)\u001b[0m\u001b[0;34m\u001b[0m\u001b[0;34m\u001b[0m\u001b[0m\n\u001b[0;32m---> 20\u001b[0;31m \u001b[0msf\u001b[0m\u001b[0;34m.\u001b[0m\u001b[0mfind_xpath\u001b[0m\u001b[0;34m(\u001b[0m\u001b[0;34m'//input[@type=\"text\"]'\u001b[0m\u001b[0;34m)\u001b[0m\u001b[0;34m.\u001b[0m\u001b[0msend_keys\u001b[0m\u001b[0;34m(\u001b[0m\u001b[0musername\u001b[0m\u001b[0;34m)\u001b[0m\u001b[0;34m\u001b[0m\u001b[0;34m\u001b[0m\u001b[0m\n\u001b[0m\u001b[1;32m     21\u001b[0m \u001b[0mtime\u001b[0m\u001b[0;34m.\u001b[0m\u001b[0msleep\u001b[0m\u001b[0;34m(\u001b[0m\u001b[0;36m1\u001b[0m\u001b[0;34m)\u001b[0m\u001b[0;34m\u001b[0m\u001b[0;34m\u001b[0m\u001b[0m\n\u001b[1;32m     22\u001b[0m \u001b[0msf\u001b[0m\u001b[0;34m.\u001b[0m\u001b[0mfind_xpath\u001b[0m\u001b[0;34m(\u001b[0m\u001b[0;34m'//input[@type=\"password\"]'\u001b[0m\u001b[0;34m)\u001b[0m\u001b[0;34m.\u001b[0m\u001b[0msend_keys\u001b[0m\u001b[0;34m(\u001b[0m\u001b[0mpassword\u001b[0m\u001b[0;34m)\u001b[0m\u001b[0;34m\u001b[0m\u001b[0;34m\u001b[0m\u001b[0m\n",
      "\u001b[0;31mAttributeError\u001b[0m: 'bool' object has no attribute 'send_keys'"
     ]
    }
   ],
   "source": [
    "import selenium_framework \n",
    "# selenium_framework is a module I built myself. The usual approach would be \"import selenium\"\n",
    "# Selenium itself does exactly the same as I do here, yet it requires a bit more code.\n",
    "# If you are able to install Python, pip and selenium on your computer successfully, message me....\n",
    "# .... I will send you the selenium_framework module via Gitlab.\n",
    "import time\n",
    "\n",
    "username = \"h11706787\"\n",
    "password = \"XXXXXXXXXXXX\"\n",
    "course = \"International Diversity Management\"\n",
    "lv_number = \"1052\"\n",
    "\n",
    "sf = selenium_framework.SeleniumBrowser(\"macos\")\n",
    "\n",
    "sf.start_driver()\n",
    "driver = sf.driver\n",
    "\n",
    "driver.get(\"https://lpis.wu.ac.at/lpis\")\n",
    "time.sleep(3)\n",
    "sf.find_xpath('//input[@type=\"text\"]').send_keys(username)\n",
    "time.sleep(1)\n",
    "sf.find_xpath('//input[@type=\"password\"]').send_keys(password)\n",
    "time.sleep(1)\n",
    "sf.find_xpath('//input[@type=\"submit\"]').click()\n",
    "time.sleep(5)\n",
    "sf.find_xpath(f\"//span[text()='{course}']/ancestor::td//a[contains(text(),'anmelden')]\").click()\n",
    "time.sleep(5)\n",
    "sf.find_xpath(f\"//a[text()='{1052}']/ancestor::tr//input[@type='submit']\").click()\n"
   ]
  },
  {
   "cell_type": "markdown",
   "metadata": {
    "id": "2QqfMoq52jht",
    "slideshow": {
     "slide_type": "fragment"
    }
   },
   "source": [
    "Dieser Code führt automatisch eine Anmeldung für einen Unikurs aus."
   ]
  },
  {
   "cell_type": "markdown",
   "metadata": {
    "slideshow": {
     "slide_type": "subslide"
    }
   },
   "source": [
    "Zuletzt, was macht dieser Code:"
   ]
  },
  {
   "cell_type": "code",
   "execution_count": 88,
   "metadata": {},
   "outputs": [
    {
     "ename": "ModuleNotFoundError",
     "evalue": "No module named 'pandas'",
     "output_type": "error",
     "traceback": [
      "\u001b[0;31m---------------------------------------------------------------------------\u001b[0m",
      "\u001b[0;31mModuleNotFoundError\u001b[0m                       Traceback (most recent call last)",
      "\u001b[0;32m<ipython-input-88-571b15577a04>\u001b[0m in \u001b[0;36m<module>\u001b[0;34m\u001b[0m\n\u001b[0;32m----> 1\u001b[0;31m \u001b[0;32mimport\u001b[0m \u001b[0mpandas\u001b[0m \u001b[0;32mas\u001b[0m \u001b[0mpd\u001b[0m\u001b[0;34m\u001b[0m\u001b[0;34m\u001b[0m\u001b[0m\n\u001b[0m\u001b[1;32m      2\u001b[0m \u001b[0;32mimport\u001b[0m \u001b[0mnumpy\u001b[0m \u001b[0;32mas\u001b[0m \u001b[0mnp\u001b[0m\u001b[0;34m\u001b[0m\u001b[0;34m\u001b[0m\u001b[0m\n\u001b[1;32m      3\u001b[0m \u001b[0;32mfrom\u001b[0m \u001b[0msklearn\u001b[0m\u001b[0;34m.\u001b[0m\u001b[0mmodel_selection\u001b[0m \u001b[0;32mimport\u001b[0m \u001b[0mtrain_test_split\u001b[0m\u001b[0;34m\u001b[0m\u001b[0;34m\u001b[0m\u001b[0m\n\u001b[1;32m      4\u001b[0m \u001b[0;32mimport\u001b[0m \u001b[0mtensorflow\u001b[0m \u001b[0;32mas\u001b[0m \u001b[0mtf\u001b[0m\u001b[0;34m\u001b[0m\u001b[0;34m\u001b[0m\u001b[0m\n\u001b[1;32m      5\u001b[0m \u001b[0;34m\u001b[0m\u001b[0m\n",
      "\u001b[0;31mModuleNotFoundError\u001b[0m: No module named 'pandas'"
     ]
    }
   ],
   "source": [
    "import pandas as pd\n",
    "import numpy as np\n",
    "from sklearn.model_selection import train_test_split\n",
    "import tensorflow as tf\n",
    "\n",
    "trial = pd.read_csv('https://raw.githubusercontent.com/Elmira-Rakhmetova/ML-Audit-project/main/trial.csv')\n",
    "trial = trial[(trial.LOCATION_ID != 'LOHARU') & (trial.LOCATION_ID != 'NUH') & (trial.LOCATION_ID != 'SAFIDON')].astype(float)\n",
    "trial[np.isnan(trial)] = 0\n",
    "x = trial[['PARA_A','PARA_B', 'TOTAL', 'numbers', 'Money_Value', 'District', 'Loss', 'History']]\n",
    "y = trial['Risk'].astype(int)\n",
    "x = tf.keras.utils.normalize(x)\n",
    "x_train, x_test, y_train, y_test = train_test_split(x, y, test_size=0.3, random_state=42)\n",
    "\n",
    "dnn_model = tf.keras.models.Sequential([\n",
    "tf.keras.layers.InputLayer(input_shape=(8)),\n",
    "tf.keras.layers.Dense(50, activation='relu'),\n",
    "tf.keras.layers.Dropout(0.2),\n",
    "tf.keras.layers.Dense(20, activation='relu'),\n",
    "tf.keras.layers.Dense(2)\n",
    "])\n",
    "\n",
    "dnn_model.compile(optimizer='adam',\n",
    "              loss=tf.keras.losses.SparseCategoricalCrossentropy(from_logits=True),\n",
    "              metrics=['accuracy'])\n",
    "\n",
    "result = dnn_model.fit(x_train, y_train, epochs=1000)"
   ]
  },
  {
   "cell_type": "markdown",
   "metadata": {
    "slideshow": {
     "slide_type": "fragment"
    }
   },
   "source": [
    "Das hier ist ein Deep Neural Network (DNN), also ein Machine Learning Algorithmus. Wesentlich weniger "
   ]
  },
  {
   "cell_type": "markdown",
   "metadata": {
    "slideshow": {
     "slide_type": "slide"
    }
   },
   "source": [
    "# Tag 1 - WRAP UP!"
   ]
  },
  {
   "cell_type": "markdown",
   "metadata": {
    "slideshow": {
     "slide_type": "subslide"
    }
   },
   "source": [
    "## Gibt es ein Thema, das wir noch einmal durchbesprechen sollen?\n",
    "- Ich kann zu jedem Thema gerne noch einmal ein paar Beispiele darstellen."
   ]
  },
  {
   "cell_type": "markdown",
   "metadata": {
    "slideshow": {
     "slide_type": "subslide"
    }
   },
   "source": [
    "## Was wir an Tag 1 gelernt haben\n",
    "* VIEL über die Syntax von Python\n",
    " - Datentypen (Strings, Integer, Floats, Booleans, Lists, Dictionaries)\n",
    " - If-Sätze (nested ifs, elif,...)\n",
    " - Loops (while, for, range() Funktion)\n",
    " - Funktionen\n",
    " - Grundzüge von Klassen und Objekten\n",
    " - Imports (plus Beispiele)\n",
    "* Einfache Fehlerbehebung und Stackoverflow"
   ]
  },
  {
   "cell_type": "markdown",
   "metadata": {
    "slideshow": {
     "slide_type": "subslide"
    }
   },
   "source": [
    "## Hausaufgabe bis morgen\n",
    "*Sorry*"
   ]
  },
  {
   "cell_type": "markdown",
   "metadata": {
    "slideshow": {
     "slide_type": "fragment"
    }
   },
   "source": [
    "* Morgen werden wir live im Unterricht eigene Programme programmieren.\n",
    "* Daher musst du **deine Entwicklungsumgebung auf deinem eigenen Computer/Laptop einrichten**."
   ]
  },
  {
   "cell_type": "markdown",
   "metadata": {
    "slideshow": {
     "slide_type": "subslide"
    }
   },
   "source": [
    "### Hausaufgabe 1: Schritt für Schritt \n",
    "1. Installiere [Python 3 (die neueste Version)](https://www.python.org)\n",
    "1. Öffne Terminal (unter MacOS) oder Command Prompt (unter Windows, auch bekannt als \"Eingabeaufforderung\")\n",
    "1. Gib das Folgende in dein Terminalfenster ein und drücke die Eingabetaste:\n",
    "`python --version` ODER `python3 --version` ODER `py --version`\n",
    "1. Stelle sicher, dass du eine Python 3 Version hast\n",
    "1. Dann benutze deinen Python-Befehl, um auch zu überprüfen, ob pip funktioniert:\n",
    "`python3 -m pip --version`"
   ]
  },
  {
   "cell_type": "markdown",
   "metadata": {
    "slideshow": {
     "slide_type": "subslide"
    }
   },
   "source": [
    "Should look like this:"
   ]
  },
  {
   "cell_type": "markdown",
   "metadata": {},
   "source": [
    "<img src=\"https://raw.githubusercontent.com/PerfXWeb/python-workshop-2day-ge/master/images/pw-terminal.png\" width=\"60%\">"
   ]
  },
  {
   "cell_type": "markdown",
   "metadata": {
    "slideshow": {
     "slide_type": "fragment"
    }
   },
   "source": [
    "*Tipps:*\n",
    "* Wenn pip nicht installiert ist, googlen, wie man pip installiert.\n",
    "* Wenn du Python nicht über dein Terminal öffnen kannst (eine Art \"not found\"-Fehler), dann googlen, wie du PATH-Variablen für Python auf deinem Betriebssystem setzen kannst."
   ]
  },
  {
   "cell_type": "markdown",
   "metadata": {
    "slideshow": {
     "slide_type": "subslide"
    }
   },
   "source": [
    "### Hausaufgabe 2: Bereite ein IDE vor.\n",
    "* IDEs helfen uns, viel effizienter zu programmieren.\n",
    "* Theoretisch kannst du jeden Texteditor verwenden, aber mit einem IDE macht das Programmieren mehr Spaß!\n",
    "* Persönlich benutze ich [Atom](https://atom.io)\n",
    "* Wenn du noch kein IDE hast, lade dir einfach diese eines herunter. Ich werde morgen Atom benutzen."
   ]
  },
  {
   "cell_type": "markdown",
   "metadata": {
    "slideshow": {
     "slide_type": "fragment"
    }
   },
   "source": [
    "**Google Colab wird für die Live Coding Beispiele nicht wirklich funktionieren. Wir werden Colab morgen nicht benutzen.**"
   ]
  },
  {
   "cell_type": "markdown",
   "metadata": {
    "slideshow": {
     "slide_type": "subslide"
    }
   },
   "source": [
    "## Gibt es Wünsche für morgen?\n",
    "- Ist euch heute vielleicht etwas eingefallen, wie ihr Python zu eurem Nutzen machen könnt?"
   ]
  },
  {
   "cell_type": "markdown",
   "metadata": {
    "slideshow": {
     "slide_type": "subslide"
    }
   },
   "source": [
    "## Fragen?"
   ]
  },
  {
   "cell_type": "markdown",
   "metadata": {
    "slideshow": {
     "slide_type": "fragment"
    }
   },
   "source": [
    "*Hausübung nicht vergessen.*"
   ]
  },
  {
   "cell_type": "markdown",
   "metadata": {
    "slideshow": {
     "slide_type": "fragment"
    }
   },
   "source": [
    "*Bis morgen!*"
   ]
  },
  {
   "cell_type": "markdown",
   "metadata": {
    "slideshow": {
     "slide_type": "slide"
    }
   },
   "source": [
    "# Tag 2 - Live Coding"
   ]
  },
  {
   "cell_type": "markdown",
   "metadata": {
    "slideshow": {
     "slide_type": "subslide"
    }
   },
   "source": [
    "## Fragen?"
   ]
  },
  {
   "cell_type": "markdown",
   "metadata": {
    "slideshow": {
     "slide_type": "subslide"
    }
   },
   "source": [
    "## Kurzer Rückblick auf gestern"
   ]
  },
  {
   "cell_type": "markdown",
   "metadata": {},
   "source": [
    "## Was wir an Tag 1 gelernt haben\n",
    "- Data types (strings, integers, floats, booleans, lists, dictionaries)\n",
    "- If-sentences (nested ifs, elif,...)\n",
    "- Loops (while, for, range() Funktion)\n",
    "- Imports (und Beispiele)"
   ]
  },
  {
   "cell_type": "markdown",
   "metadata": {
    "id": "X1uUlG59IYJs",
    "slideshow": {
     "slide_type": "subslide"
    }
   },
   "source": [
    "## Bevor wir anfangen\n",
    "\n",
    "* Schalte deine Kamera ein!\n",
    "* Ich brauche eure **volle Konzentration**\n",
    "* Hol dir noch schnell einen Kaffee\n",
    "* Falls zu irgendeinem Zeitpunkt fragen auftauchen: Direkt fragen!\n",
    "* Ich habe ein paar kleine Programmier-Aufgaben vorbereitet, die ihr selbst lösen müsst. Lösungen findet ihr im Github Projekt, allerdings empfehle ich euch, die Beispiele trotzdem zuerst **selbst** zu probieren.\n",
    "\n"
   ]
  },
  {
   "cell_type": "markdown",
   "metadata": {
    "id": "5eOqqSmPI27O",
    "slideshow": {
     "slide_type": "subslide"
    }
   },
   "source": [
    "- schließe **Alles auf deinem Computer** außer:\n",
    " - Unsere Kommunikationsplattform\n",
    " - das IDE deiner Wahl (zB Atom)\n",
    " - Ein Terminalfenster (oder \"Eingabeaufforderung\" unter Windows)\n"
   ]
  },
  {
   "cell_type": "markdown",
   "metadata": {
    "slideshow": {
     "slide_type": "subslide"
    }
   },
   "source": [
    "## Agenda for Day 2\n",
    "1. Live coding session\n",
    " - DownloadsCleaner - Sortiere automatisch deinen Downloads Ordner\n",
    " - Excel / API Integration - Füge COVID-19 Daten über eine API zu einem Excel Sheet hinzu und verschiebe einige Daten.\n",
    "1. Finales wrap-up"
   ]
  },
  {
   "cell_type": "markdown",
   "metadata": {
    "slideshow": {
     "slide_type": "slide"
    }
   },
   "source": [
    "# LIVE CODING SESSION\n",
    "*Seid ihr bereit?*"
   ]
  },
  {
   "cell_type": "markdown",
   "metadata": {
    "slideshow": {
     "slide_type": "subslide"
    }
   },
   "source": [
    "## Überprüfe unsere Umgebung\n",
    "1. Ist unser IDE bereit und ein Projektordner eingerichtet?\n",
    "1. Ist Python korrekt installiert?\n",
    "1. Ist unser Terminal bereit?\n",
    "\n",
    "Jetzt ist der perfekte Zeitpunkt, um Fragen zur Umgebung zu stellen!"
   ]
  },
  {
   "cell_type": "markdown",
   "metadata": {
    "slideshow": {
     "slide_type": "subslide"
    }
   },
   "source": [
    "## Projekt 1 - Automatisch den Downloads-Ordner sauber halten"
   ]
  },
  {
   "cell_type": "markdown",
   "metadata": {
    "slideshow": {
     "slide_type": "fragment"
    }
   },
   "source": [
    "### Das Problem\n",
    "- Ich lade ständig Sachen aus dem Internet herunter und mein Download-Ordner wird unübersichtlich\n",
    "- Ich möchte nicht, dass Dateien gelöscht, sondern lediglich umstrukturiert werden\n",
    "- Mein Download-Ordner sollte sauber und zugänglich sein, nachdem ich das Programm gestartet habe\n",
    "- Es sollte eine Option geben, bestimmte Dateien im Download-Ordner zu behalten, wenn ich das möchte"
   ]
  },
  {
   "cell_type": "markdown",
   "metadata": {
    "slideshow": {
     "slide_type": "subslide"
    }
   },
   "source": [
    "### Die Lösung\n",
    "1. Alle Dateien sollten basierend auf ihrem Typ neu strukturiert werden:\n",
    " - Bilddateien (.png, .jpg, .jpeg, .gif, ) sollten in einen \"images\" Ordner verschoben werden\n",
    " - Videodateien (.mov, .mp4) sollten in einen \"videos\"-Ordner verschoben werden\n",
    " - Musikdateien (.mp3, .wav, , .aac) sollten in einen \"music\"-Ordner verschoben werden\n",
    " - Dokumente (.doc, .docx, .pdf, .ppt, .pptc, .xls, .xlsx) sollten in einen \"documents\"-Ordner verschoben werden\n",
    " - Zip Dateien (.zip, .tar, .tar.gz) sollten in einen \"zips\" Ordner verschoben werden\n",
    " - Alle Ordner, die NICHT die oben genannten sind, sollten ebenfalls in den \"zips\"-Ordner verschoben werden\n",
    "1. Dateien, die mit \"x \" beginnen, sollten immer im Hauptordner für Downloads bleiben\n",
    "1. Wenn einer der oben genannten Ordner nicht innerhalb des Downloads-Ordners existiert, dann müssen wir ihn erstellen"
   ]
  },
  {
   "cell_type": "markdown",
   "metadata": {
    "slideshow": {
     "slide_type": "subslide"
    }
   },
   "source": [
    "<img src=\"https://raw.githubusercontent.com/PerfXWeb/python-workshop-2day-ge/master/images/pw-break.png\" width=\"60%\">"
   ]
  },
  {
   "cell_type": "markdown",
   "metadata": {
    "slideshow": {
     "slide_type": "subslide"
    }
   },
   "source": [
    "## Projekt 2 - PDFs mit einem Wasserzeichen beschreiben"
   ]
  },
  {
   "cell_type": "markdown",
   "metadata": {
    "slideshow": {
     "slide_type": "fragment"
    }
   },
   "source": [
    "### Das Problem\n",
    "- Wir bekommen regelmäßig PDFs in unterschiedlicher Form.\n",
    "- Wir wollen ein bestimmtes Wasserzeichen / eine Signatur automatisch auf unsere PDF drucken."
   ]
  },
  {
   "cell_type": "markdown",
   "metadata": {
    "slideshow": {
     "slide_type": "fragment"
    }
   },
   "source": [
    "### Lösung\n",
    "- Passendes Python package finden, mit dem PDFs bearbeitet werden können.\n",
    "- Wasserzeichen / Signatur mittig am unteren Rand der PDF aufdrucken.\n",
    "- PDF mit einem `_signed` suffix abspeichern."
   ]
  },
  {
   "cell_type": "markdown",
   "metadata": {
    "slideshow": {
     "slide_type": "subslide"
    }
   },
   "source": [
    "## Projekt 3 - Viele PDFs zusammenfassen"
   ]
  },
  {
   "cell_type": "markdown",
   "metadata": {
    "slideshow": {
     "slide_type": "fragment"
    }
   },
   "source": [
    "### Das Problem\n",
    "- Wir haben eine unglaubliche Menge an PDFs, die wir zusammenfügen wollen.\n",
    "- Alle manuell machen ist uns einfach zu viel Aufwand."
   ]
  },
  {
   "cell_type": "markdown",
   "metadata": {
    "slideshow": {
     "slide_type": "fragment"
    }
   },
   "source": [
    "### Die Lösung\n",
    "- Ein kleines Programm, dass alle PDFs in einem bestimmten Ordner in eine einzige Datei zusammenfasst.\n",
    "- Die Datei wird dann `PDF_merged.pdf` genannt"
   ]
  },
  {
   "cell_type": "markdown",
   "metadata": {
    "slideshow": {
     "slide_type": "subslide"
    }
   },
   "source": [
    "## Projekt 4  - Korrelieren von COVID-19 Daten mit einer Firmen-Excel-Tabelle\n",
    "*Ein fiktiver Fall, wie du Python an deinem Arbeitsplatz einsetzen kannst*."
   ]
  },
  {
   "cell_type": "markdown",
   "metadata": {
    "slideshow": {
     "slide_type": "fragment"
    }
   },
   "source": [
    "### Das Problem\n",
    "- Wir arbeiten in einer österreichischen Firma und sind für einige organisatorische Dinge verantwortlich.\n",
    "- Wir haben eine Reihe von Excel-Tabellen bekommen, eine für JEDEN Mitarbeiter unserer Firma\n",
    " - Jede Excel-Tabelle enthält das Zufriedenheitslevel der einzelnen Mitarbeiter für jede Woche des Jahres\n",
    "- Wir wollen wissen, ob es allgemeine Zufriedenheitstrends über das Jahr hinweg innerhalb der Firma gibt\n",
    "- Gleichzeitig wollen wir auch Daten über COVID-19 Erkrankungen in Österreich ein eine Excel-Tabelle schreiben"
   ]
  },
  {
   "cell_type": "markdown",
   "metadata": {
    "slideshow": {
     "slide_type": "subslide"
    }
   },
   "source": [
    "### Die Lösung\n",
    "Das ist schon eine ziemlich anspruchsvolle Aufgabe. Aber wir KÖNNEN es schaffen!"
   ]
  },
  {
   "cell_type": "markdown",
   "metadata": {
    "slideshow": {
     "slide_type": "fragment"
    }
   },
   "source": [
    "Unser Programm soll folgendes machen:\n",
    "1. Mit einer for-Schleife durch alle Excel-Blätter in einem bestimmten Ordner gehen.\n",
    " - Alle Zufriedenheitslevels jedes Mitarbeiter-Blattes auslesen und zwischenspeichern\n",
    "1. Ein weiteres Excel-Blatt öffnen und den MITTELWERT der Zufriedenheit aller Mitarbeiter in dieses Blatt eintragen\n",
    "1. Die \"gesamten bestätigten Fälle von COVID-19\" der letzten Monate in Österreich aus einer API holen und diese Daten zu unserem Mitarbeiter-Glücks-Durchschnitt hinzufügen\n",
    "\n",
    "*(Wir könnten anschließend auch mit Python einige verrückte Korrelationsanalysen machen, allerdings geht dies schon in die Data Science Richtung und sprengt den heutigen Rahmen)*"
   ]
  },
  {
   "cell_type": "markdown",
   "metadata": {
    "slideshow": {
     "slide_type": "subslide"
    }
   },
   "source": [
    "Wunderbar!"
   ]
  },
  {
   "cell_type": "markdown",
   "metadata": {
    "slideshow": {
     "slide_type": "fragment"
    }
   },
   "source": [
    "Der gesamte Code von heute kann im [Github repository](https://github.com/PerfXWeb/python-workshop-2day-ge) nochmal aufgerufen werden."
   ]
  },
  {
   "cell_type": "markdown",
   "metadata": {
    "id": "AkekhX6J2q0e",
    "slideshow": {
     "slide_type": "slide"
    }
   },
   "source": [
    "# Das wars!\n",
    "*Was für zwei anspruchsvolle Tage!*"
   ]
  },
  {
   "cell_type": "markdown",
   "metadata": {
    "id": "c2JK8HmjMSQK",
    "slideshow": {
     "slide_type": "fragment"
    }
   },
   "source": [
    "**Before we wrap this up:**\n",
    "\n",
    "Please fill out my [feedback form](https://docs.google.com/forms/d/e/1FAIpQLSeBCWgTNo6w1HNj3d61lvQOP6f_XPULtZunb4sI6XucUEfVSQ/viewform?usp=sf_link)"
   ]
  },
  {
   "cell_type": "markdown",
   "metadata": {
    "id": "KVDVjr56Ay5_",
    "slideshow": {
     "slide_type": "subslide"
    }
   },
   "source": [
    "## Finale Tipps von Developer zu Developer"
   ]
  },
  {
   "cell_type": "markdown",
   "metadata": {
    "id": "sDQzah-uA5dp",
    "slideshow": {
     "slide_type": "fragment"
    }
   },
   "source": [
    "* **COMMENT your code**, andernfalls wird dein Code sehr schnell sehr unübersichtlich."
   ]
  },
  {
   "cell_type": "markdown",
   "metadata": {
    "id": "8itHr0aqUJ27",
    "slideshow": {
     "slide_type": "fragment"
    }
   },
   "source": [
    "<img src=\"https://raw.githubusercontent.com/PerfXWeb/python-workshop-2day-ge/master/images/meme_no-comment-elvish.png\" width=\"50%\">\n"
   ]
  },
  {
   "cell_type": "markdown",
   "metadata": {
    "id": "DCvgkUUTUR53",
    "slideshow": {
     "slide_type": "subslide"
    }
   },
   "source": [
    "<img src=\"https://raw.githubusercontent.com/PerfXWeb/python-workshop-2day-ge/master/images/meme_no-comment_no-idea.jpg\" width=\"50%\">"
   ]
  },
  {
   "cell_type": "markdown",
   "metadata": {
    "id": "YElqxnFiBAqB",
    "slideshow": {
     "slide_type": "subslide"
    }
   },
   "source": [
    "* Die meisten Projekte wurden bereits schon einmal programmiert. Kopiere den Code von Github oder anderen Quellen und passe ihn nach deinen Wünschen an. GOOGLE!"
   ]
  },
  {
   "cell_type": "markdown",
   "metadata": {
    "id": "M1Su4btWBOKQ",
    "slideshow": {
     "slide_type": "fragment"
    }
   },
   "source": [
    "* Die meiste Arbeit beim Programmieren besteht darin, herauszufinden, wie etwas funktioniert und Fehler zu beheben. Nicht zu schnell frustriert werden!"
   ]
  },
  {
   "cell_type": "markdown",
   "metadata": {
    "id": "fdcdx9023ohc",
    "slideshow": {
     "slide_type": "subslide"
    }
   },
   "source": [
    "## Was wir gelernt haben\n",
    "* VIEL über die Syntax von Python\n",
    " - Datentypen (Strings, Integer, Floats, Booleans, Lists, Dictionaries)\n",
    " - If-Sätze (nested-ifs, elif,...)\n",
    " - Schleifen (while, for, range() Funktion)\n",
    " - Funktionen (Argumente in Funktionen, return,...)\n",
    " - Klassen und Objekte\n",
    " - Importe (plus Beispiele)"
   ]
  },
  {
   "cell_type": "markdown",
   "metadata": {
    "id": "UXSZOMt74Owk",
    "slideshow": {
     "slide_type": "fragment"
    }
   },
   "source": [
    "* Wie man Python auf dem eigenen Computer verwendet.\n",
    "* Wie man Python mit Excel benutzt\n",
    "* Wie man sich mit einer API verbindet und Daten lädt.\n",
    "* Wie man Fehlermeldungen liest\n",
    "* Wo und wie man nach Lösungen sucht (Google, Stackoverflow)"
   ]
  },
  {
   "cell_type": "markdown",
   "metadata": {
    "id": "_Dj_FWB6GKrd",
    "slideshow": {
     "slide_type": "subslide"
    }
   },
   "source": [
    "# Und jetzt?"
   ]
  },
  {
   "cell_type": "markdown",
   "metadata": {
    "id": "dVVjGyA07aX-",
    "slideshow": {
     "slide_type": "fragment"
    }
   },
   "source": [
    "## Was du jetzt tun könntest\n",
    "\n",
    "* Finde etwas, das du selbst programmieren willst.\n",
    "* Schau dir ein paar APIs an (Social Media APIs, Börsen-APIs, Google Docs APIs,...)\n",
    "* Benutze Python, um Dinge zu berechnen oder zu automatisieren.\n",
    "* Schau dir gängige Python-Pakete an (Numpy, SciKit, requests, ....)"
   ]
  },
  {
   "cell_type": "markdown",
   "metadata": {
    "id": "R0p8YuEh7k_O",
    "slideshow": {
     "slide_type": "fragment"
    }
   },
   "source": [
    "Einige Beispiele:\n",
    "* Bestimmte Daten auf deinem Computer automatisch auf einem USB sichern.\n",
    "* Automatisch deine aktuellen Aktienwerte mit einer Aktien-API berechnen.\n",
    "* Behalte die Preise von bestimmten Amazon-Produkten im Auge und lasse dich benachrichtigen, wenn der Preis fällt.\n",
    "* Python für Data Science oder Machine Learning Projekte nutzen.\n",
    "\n",
    "Mehr Ideen findest du in [diesem Video](https://www.youtube.com/watch?v=o5sb8ehRSYA) (generelle Ideen), [diesem Video](https://www.youtube.com/watch?v=qbW6FRbaSl0&t=57s) (Automatisierungen) oder [diesem Video](https://www.youtube.com/watch?v=OXi4T58PwdM) (Projekte mit GUI)"
   ]
  },
  {
   "cell_type": "markdown",
   "metadata": {
    "id": "g-1kOptKGOK6",
    "slideshow": {
     "slide_type": "subslide"
    }
   },
   "source": [
    "## Weitere nützliche Ressourcen\n",
    "* Lerne mehr Python-Syntax: [w3schools](https://www.w3schools.com/python/)\n",
    "* Wirf einen Blick auf [Datenbanken zum Speichern von Daten](https://www.w3schools.com/python/python_mysql_create_db.asp)\n",
    "* Setze dich mit [Maschinellem Lernen und Tensorflow (fortgeschritten)](https://www.udacity.com/course/intro-to-tensorflow-for-deep-learning--ud187) auseinander."
   ]
  },
  {
   "cell_type": "markdown",
   "metadata": {
    "id": "jAmIgvcwBdRk",
    "slideshow": {
     "slide_type": "subslide"
    }
   },
   "source": [
    "## Wenn du Fragen hast, Feedback teilen möchtest oder mir schreiben, was du mit Hilfe dieses Python Workshops machen konntest,\n",
    "**Kontaktiere mich hier:** matthias@perfxweb.com"
   ]
  },
  {
   "cell_type": "markdown",
   "metadata": {
    "slideshow": {
     "slide_type": "subslide"
    }
   },
   "source": [
    "**Wenn du, dein Unternehmen, dein Projekt, deine Familie oder jemand, den du kennst, absolute Profis in der Automatisierung von ALLEM braucht:**"
   ]
  },
  {
   "cell_type": "markdown",
   "metadata": {
    "slideshow": {
     "slide_type": "fragment"
    }
   },
   "source": [
    "<img href=\"https://perfxweb.com\" src=\"https://raw.githubusercontent.com/PerfXWeb/python-workshop-2day-ge/master/images/profile_perfxweb.png\" width=\"40%\">\n",
    "\n",
    "<center><a href=\"https://perfxweb.com\">perfxweb.com</a></center>"
   ]
  },
  {
   "cell_type": "markdown",
   "metadata": {
    "slideshow": {
     "slide_type": "fragment"
    }
   },
   "source": [
    "\n",
    "<center>Contact me: <a href=\"mailto:matthias@perfxweb.com\">matthias@perfxweb.com</a></center>"
   ]
  },
  {
   "cell_type": "markdown",
   "metadata": {
    "id": "wWrlVoIoBwC1",
    "slideshow": {
     "slide_type": "subslide"
    }
   },
   "source": [
    "Vielen Dank!"
   ]
  }
 ],
 "metadata": {
  "celltoolbar": "Slideshow",
  "colab": {
   "collapsed_sections": [],
   "name": "Python_CheatSheet_withSolutions.ipynb",
   "provenance": [],
   "toc_visible": true
  },
  "kernelspec": {
   "display_name": "Python 3",
   "language": "python",
   "name": "python3"
  },
  "language_info": {
   "codemirror_mode": {
    "name": "ipython",
    "version": 3
   },
   "file_extension": ".py",
   "mimetype": "text/x-python",
   "name": "python",
   "nbconvert_exporter": "python",
   "pygments_lexer": "ipython3",
   "version": "3.8.3"
  }
 },
 "nbformat": 4,
 "nbformat_minor": 4
}
